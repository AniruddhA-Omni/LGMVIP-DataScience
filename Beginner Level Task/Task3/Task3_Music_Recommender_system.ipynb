{
  "nbformat": 4,
  "nbformat_minor": 0,
  "metadata": {
    "colab": {
      "name": "Task3_Music_Recommender_system.ipynb",
      "provenance": [],
      "collapsed_sections": []
    },
    "kernelspec": {
      "name": "python3",
      "display_name": "Python 3"
    },
    "language_info": {
      "name": "python"
    },
    "accelerator": "GPU"
  },
  "cells": [
    {
      "cell_type": "markdown",
      "source": [
        "# **Task 3:**\n",
        "## **Author:** Aniruddha Jana\n",
        "## **Task description:**\n",
        "Music recommender systems can suggest songs to users based on their listening patterns."
      ],
      "metadata": {
        "id": "c22k7iHuBvnv"
      }
    },
    {
      "cell_type": "markdown",
      "source": [
        "## Importing Modules"
      ],
      "metadata": {
        "id": "iL6tt_yaCKqt"
      }
    },
    {
      "cell_type": "code",
      "source": [
        "from sklearn.preprocessing import LabelEncoder\n",
        "from sklearn.model_selection import *\n",
        "from sklearn.metrics import classification_report\n",
        "from sklearn.ensemble import RandomForestClassifier\n",
        "import xgboost as xgb\n",
        "import numpy as np\n",
        "import pandas as pd\n",
        "import seaborn as sns\n",
        "import matplotlib.pyplot as plt\n",
        "import warnings\n",
        "warnings.filterwarnings('ignore')\n",
        "plt.style.use('ggplot')"
      ],
      "metadata": {
        "id": "39xAneZOCKQx"
      },
      "execution_count": null,
      "outputs": []
    },
    {
      "cell_type": "markdown",
      "source": [
        "## Data Preparation"
      ],
      "metadata": {
        "id": "lnLsCNKDFjuJ"
      }
    },
    {
      "cell_type": "code",
      "execution_count": null,
      "metadata": {
        "id": "8fjSJOWU_LF6",
        "colab": {
          "base_uri": "https://localhost:8080/"
        },
        "outputId": "ae077988-4248-442e-f433-186888393809"
      },
      "outputs": [
        {
          "output_type": "stream",
          "name": "stdout",
          "text": [
            "<class 'pandas.core.frame.DataFrame'>\n",
            "Int64Index: 7040 entries, 1655900 to 1126921\n",
            "Data columns (total 6 columns):\n",
            " #   Column              Non-Null Count  Dtype  \n",
            "---  ------              --------------  -----  \n",
            " 0   msno                7040 non-null   object \n",
            " 1   song_id             7040 non-null   object \n",
            " 2   source_system_tab   7024 non-null   object \n",
            " 3   source_screen_name  6721 non-null   object \n",
            " 4   source_type         7026 non-null   object \n",
            " 5   target              7040 non-null   float64\n",
            "dtypes: float64(1), object(5)\n",
            "memory usage: 385.0+ KB\n"
          ]
        }
      ],
      "source": [
        "# load data\n",
        "data = pd.read_csv('train.csv')\n",
        "data = data.sample(frac=0.004)\n",
        "data.info()"
      ]
    },
    {
      "cell_type": "code",
      "source": [
        "data.head()"
      ],
      "metadata": {
        "colab": {
          "base_uri": "https://localhost:8080/",
          "height": 288
        },
        "id": "ZzA35Ca0GdBF",
        "outputId": "dbae38ce-f1ff-4ee0-da22-d1658301adca"
      },
      "execution_count": null,
      "outputs": [
        {
          "output_type": "execute_result",
          "data": {
            "text/html": [
              "\n",
              "  <div id=\"df-33aef0ab-81be-4540-91e5-44c2cf3f75aa\">\n",
              "    <div class=\"colab-df-container\">\n",
              "      <div>\n",
              "<style scoped>\n",
              "    .dataframe tbody tr th:only-of-type {\n",
              "        vertical-align: middle;\n",
              "    }\n",
              "\n",
              "    .dataframe tbody tr th {\n",
              "        vertical-align: top;\n",
              "    }\n",
              "\n",
              "    .dataframe thead th {\n",
              "        text-align: right;\n",
              "    }\n",
              "</style>\n",
              "<table border=\"1\" class=\"dataframe\">\n",
              "  <thead>\n",
              "    <tr style=\"text-align: right;\">\n",
              "      <th></th>\n",
              "      <th>msno</th>\n",
              "      <th>song_id</th>\n",
              "      <th>source_system_tab</th>\n",
              "      <th>source_screen_name</th>\n",
              "      <th>source_type</th>\n",
              "      <th>target</th>\n",
              "    </tr>\n",
              "  </thead>\n",
              "  <tbody>\n",
              "    <tr>\n",
              "      <th>1655900</th>\n",
              "      <td>5R+7rrEh/g+AQp3doc+1bHPkdfwR4Md45UOcAKnM3tI=</td>\n",
              "      <td>6EzQaWbZSgTRIkklX6A0x9sw78XXHboQiCmLBJPQqB8=</td>\n",
              "      <td>my library</td>\n",
              "      <td>Local playlist more</td>\n",
              "      <td>local-library</td>\n",
              "      <td>1.0</td>\n",
              "    </tr>\n",
              "    <tr>\n",
              "      <th>1519257</th>\n",
              "      <td>942u+6C0SFVjPKUI1/sJkHSgH6DeP2h0Y48YhR6+IWY=</td>\n",
              "      <td>shYcSF/8MpYMxMzLfRznBZjwoQIvd+RUH06UamCj8ks=</td>\n",
              "      <td>my library</td>\n",
              "      <td>Local playlist more</td>\n",
              "      <td>local-playlist</td>\n",
              "      <td>0.0</td>\n",
              "    </tr>\n",
              "    <tr>\n",
              "      <th>342143</th>\n",
              "      <td>LR9NLKme+aT6uoW3R5XlLu9gq7LQG6tt+bJTEPpcrGg=</td>\n",
              "      <td>QFhJM9IlFl7Dl1mLQe8BIb656wgxqRuVoQ+RxRxD4Ts=</td>\n",
              "      <td>radio</td>\n",
              "      <td>Radio</td>\n",
              "      <td>radio</td>\n",
              "      <td>1.0</td>\n",
              "    </tr>\n",
              "    <tr>\n",
              "      <th>1151910</th>\n",
              "      <td>uLeNE8TnnTMK5rfIgCyB/X07yBSkXrR0Dm/Vl5oYsUM=</td>\n",
              "      <td>j1x1gaWzftYafMxJYm5q/4ekQk/X4YeQsybjptEay48=</td>\n",
              "      <td>my library</td>\n",
              "      <td>Local playlist more</td>\n",
              "      <td>local-library</td>\n",
              "      <td>0.0</td>\n",
              "    </tr>\n",
              "    <tr>\n",
              "      <th>1363331</th>\n",
              "      <td>YNIddpB9u5tWONSwcnalYIgUPLrATajcE0ZLXMpMsMU=</td>\n",
              "      <td>+5YuKe9PH8qkt9BrHFxgMY4SsCXUn9DXTW3998Y6N7w=</td>\n",
              "      <td>explore</td>\n",
              "      <td>Online playlist more</td>\n",
              "      <td>online-playlist</td>\n",
              "      <td>0.0</td>\n",
              "    </tr>\n",
              "  </tbody>\n",
              "</table>\n",
              "</div>\n",
              "      <button class=\"colab-df-convert\" onclick=\"convertToInteractive('df-33aef0ab-81be-4540-91e5-44c2cf3f75aa')\"\n",
              "              title=\"Convert this dataframe to an interactive table.\"\n",
              "              style=\"display:none;\">\n",
              "        \n",
              "  <svg xmlns=\"http://www.w3.org/2000/svg\" height=\"24px\"viewBox=\"0 0 24 24\"\n",
              "       width=\"24px\">\n",
              "    <path d=\"M0 0h24v24H0V0z\" fill=\"none\"/>\n",
              "    <path d=\"M18.56 5.44l.94 2.06.94-2.06 2.06-.94-2.06-.94-.94-2.06-.94 2.06-2.06.94zm-11 1L8.5 8.5l.94-2.06 2.06-.94-2.06-.94L8.5 2.5l-.94 2.06-2.06.94zm10 10l.94 2.06.94-2.06 2.06-.94-2.06-.94-.94-2.06-.94 2.06-2.06.94z\"/><path d=\"M17.41 7.96l-1.37-1.37c-.4-.4-.92-.59-1.43-.59-.52 0-1.04.2-1.43.59L10.3 9.45l-7.72 7.72c-.78.78-.78 2.05 0 2.83L4 21.41c.39.39.9.59 1.41.59.51 0 1.02-.2 1.41-.59l7.78-7.78 2.81-2.81c.8-.78.8-2.07 0-2.86zM5.41 20L4 18.59l7.72-7.72 1.47 1.35L5.41 20z\"/>\n",
              "  </svg>\n",
              "      </button>\n",
              "      \n",
              "  <style>\n",
              "    .colab-df-container {\n",
              "      display:flex;\n",
              "      flex-wrap:wrap;\n",
              "      gap: 12px;\n",
              "    }\n",
              "\n",
              "    .colab-df-convert {\n",
              "      background-color: #E8F0FE;\n",
              "      border: none;\n",
              "      border-radius: 50%;\n",
              "      cursor: pointer;\n",
              "      display: none;\n",
              "      fill: #1967D2;\n",
              "      height: 32px;\n",
              "      padding: 0 0 0 0;\n",
              "      width: 32px;\n",
              "    }\n",
              "\n",
              "    .colab-df-convert:hover {\n",
              "      background-color: #E2EBFA;\n",
              "      box-shadow: 0px 1px 2px rgba(60, 64, 67, 0.3), 0px 1px 3px 1px rgba(60, 64, 67, 0.15);\n",
              "      fill: #174EA6;\n",
              "    }\n",
              "\n",
              "    [theme=dark] .colab-df-convert {\n",
              "      background-color: #3B4455;\n",
              "      fill: #D2E3FC;\n",
              "    }\n",
              "\n",
              "    [theme=dark] .colab-df-convert:hover {\n",
              "      background-color: #434B5C;\n",
              "      box-shadow: 0px 1px 3px 1px rgba(0, 0, 0, 0.15);\n",
              "      filter: drop-shadow(0px 1px 2px rgba(0, 0, 0, 0.3));\n",
              "      fill: #FFFFFF;\n",
              "    }\n",
              "  </style>\n",
              "\n",
              "      <script>\n",
              "        const buttonEl =\n",
              "          document.querySelector('#df-33aef0ab-81be-4540-91e5-44c2cf3f75aa button.colab-df-convert');\n",
              "        buttonEl.style.display =\n",
              "          google.colab.kernel.accessAllowed ? 'block' : 'none';\n",
              "\n",
              "        async function convertToInteractive(key) {\n",
              "          const element = document.querySelector('#df-33aef0ab-81be-4540-91e5-44c2cf3f75aa');\n",
              "          const dataTable =\n",
              "            await google.colab.kernel.invokeFunction('convertToInteractive',\n",
              "                                                     [key], {});\n",
              "          if (!dataTable) return;\n",
              "\n",
              "          const docLinkHtml = 'Like what you see? Visit the ' +\n",
              "            '<a target=\"_blank\" href=https://colab.research.google.com/notebooks/data_table.ipynb>data table notebook</a>'\n",
              "            + ' to learn more about interactive tables.';\n",
              "          element.innerHTML = '';\n",
              "          dataTable['output_type'] = 'display_data';\n",
              "          await google.colab.output.renderOutput(dataTable, element);\n",
              "          const docLink = document.createElement('div');\n",
              "          docLink.innerHTML = docLinkHtml;\n",
              "          element.appendChild(docLink);\n",
              "        }\n",
              "      </script>\n",
              "    </div>\n",
              "  </div>\n",
              "  "
            ],
            "text/plain": [
              "                                                 msno  ... target\n",
              "1655900  5R+7rrEh/g+AQp3doc+1bHPkdfwR4Md45UOcAKnM3tI=  ...    1.0\n",
              "1519257  942u+6C0SFVjPKUI1/sJkHSgH6DeP2h0Y48YhR6+IWY=  ...    0.0\n",
              "342143   LR9NLKme+aT6uoW3R5XlLu9gq7LQG6tt+bJTEPpcrGg=  ...    1.0\n",
              "1151910  uLeNE8TnnTMK5rfIgCyB/X07yBSkXrR0Dm/Vl5oYsUM=  ...    0.0\n",
              "1363331  YNIddpB9u5tWONSwcnalYIgUPLrATajcE0ZLXMpMsMU=  ...    0.0\n",
              "\n",
              "[5 rows x 6 columns]"
            ]
          },
          "metadata": {},
          "execution_count": 13
        }
      ]
    },
    {
      "cell_type": "code",
      "source": [
        "# load and join songs\n",
        "songs = pd.read_csv('songs.csv')\n",
        "data = pd.merge(data, songs, on='song_id', how='left')\n",
        "del songs"
      ],
      "metadata": {
        "id": "TypWgF7cGchf"
      },
      "execution_count": null,
      "outputs": []
    },
    {
      "cell_type": "code",
      "source": [
        "# load and join songs data\n",
        "members = pd.read_csv('members.csv')\n",
        "data = pd.merge(data, members, on='msno', how='left')\n",
        "del members"
      ],
      "metadata": {
        "id": "slNibOxyGcUF"
      },
      "execution_count": null,
      "outputs": []
    },
    {
      "cell_type": "code",
      "source": [
        "data.head()"
      ],
      "metadata": {
        "id": "8wd-AtOjG-Ef",
        "colab": {
          "base_uri": "https://localhost:8080/",
          "height": 426
        },
        "outputId": "59ac7891-247a-4767-a809-480930766983"
      },
      "execution_count": null,
      "outputs": [
        {
          "output_type": "execute_result",
          "data": {
            "text/html": [
              "\n",
              "  <div id=\"df-7edf8e04-c785-45f8-8fc7-4fdb075d128b\">\n",
              "    <div class=\"colab-df-container\">\n",
              "      <div>\n",
              "<style scoped>\n",
              "    .dataframe tbody tr th:only-of-type {\n",
              "        vertical-align: middle;\n",
              "    }\n",
              "\n",
              "    .dataframe tbody tr th {\n",
              "        vertical-align: top;\n",
              "    }\n",
              "\n",
              "    .dataframe thead th {\n",
              "        text-align: right;\n",
              "    }\n",
              "</style>\n",
              "<table border=\"1\" class=\"dataframe\">\n",
              "  <thead>\n",
              "    <tr style=\"text-align: right;\">\n",
              "      <th></th>\n",
              "      <th>msno</th>\n",
              "      <th>song_id</th>\n",
              "      <th>source_system_tab</th>\n",
              "      <th>source_screen_name</th>\n",
              "      <th>source_type</th>\n",
              "      <th>target</th>\n",
              "      <th>song_length</th>\n",
              "      <th>genre_ids</th>\n",
              "      <th>artist_name</th>\n",
              "      <th>composer</th>\n",
              "      <th>lyricist</th>\n",
              "      <th>language</th>\n",
              "      <th>city</th>\n",
              "      <th>bd</th>\n",
              "      <th>gender</th>\n",
              "      <th>registered_via</th>\n",
              "      <th>registration_init_time</th>\n",
              "      <th>expiration_date</th>\n",
              "    </tr>\n",
              "  </thead>\n",
              "  <tbody>\n",
              "    <tr>\n",
              "      <th>0</th>\n",
              "      <td>5R+7rrEh/g+AQp3doc+1bHPkdfwR4Md45UOcAKnM3tI=</td>\n",
              "      <td>6EzQaWbZSgTRIkklX6A0x9sw78XXHboQiCmLBJPQqB8=</td>\n",
              "      <td>my library</td>\n",
              "      <td>Local playlist more</td>\n",
              "      <td>local-library</td>\n",
              "      <td>1.0</td>\n",
              "      <td>251040</td>\n",
              "      <td>458</td>\n",
              "      <td>徐佳瑩 (Lala Hsu)</td>\n",
              "      <td>徐佳瑩</td>\n",
              "      <td>徐佳瑩</td>\n",
              "      <td>3.0</td>\n",
              "      <td>3</td>\n",
              "      <td>18</td>\n",
              "      <td>male</td>\n",
              "      <td>9</td>\n",
              "      <td>20150329</td>\n",
              "      <td>20170911</td>\n",
              "    </tr>\n",
              "    <tr>\n",
              "      <th>1</th>\n",
              "      <td>942u+6C0SFVjPKUI1/sJkHSgH6DeP2h0Y48YhR6+IWY=</td>\n",
              "      <td>shYcSF/8MpYMxMzLfRznBZjwoQIvd+RUH06UamCj8ks=</td>\n",
              "      <td>my library</td>\n",
              "      <td>Local playlist more</td>\n",
              "      <td>local-playlist</td>\n",
              "      <td>0.0</td>\n",
              "      <td>205635</td>\n",
              "      <td>465</td>\n",
              "      <td>Justin Bieber</td>\n",
              "      <td>Justin Bieber| Jason Boyd| Mason Levy</td>\n",
              "      <td>NaN</td>\n",
              "      <td>52.0</td>\n",
              "      <td>13</td>\n",
              "      <td>28</td>\n",
              "      <td>female</td>\n",
              "      <td>9</td>\n",
              "      <td>20100608</td>\n",
              "      <td>20170914</td>\n",
              "    </tr>\n",
              "    <tr>\n",
              "      <th>2</th>\n",
              "      <td>LR9NLKme+aT6uoW3R5XlLu9gq7LQG6tt+bJTEPpcrGg=</td>\n",
              "      <td>QFhJM9IlFl7Dl1mLQe8BIb656wgxqRuVoQ+RxRxD4Ts=</td>\n",
              "      <td>radio</td>\n",
              "      <td>Radio</td>\n",
              "      <td>radio</td>\n",
              "      <td>1.0</td>\n",
              "      <td>225094</td>\n",
              "      <td>465</td>\n",
              "      <td>羅志祥 (Show Lo)</td>\n",
              "      <td>NaN</td>\n",
              "      <td>NaN</td>\n",
              "      <td>3.0</td>\n",
              "      <td>1</td>\n",
              "      <td>0</td>\n",
              "      <td>NaN</td>\n",
              "      <td>7</td>\n",
              "      <td>20150912</td>\n",
              "      <td>20170911</td>\n",
              "    </tr>\n",
              "    <tr>\n",
              "      <th>3</th>\n",
              "      <td>uLeNE8TnnTMK5rfIgCyB/X07yBSkXrR0Dm/Vl5oYsUM=</td>\n",
              "      <td>j1x1gaWzftYafMxJYm5q/4ekQk/X4YeQsybjptEay48=</td>\n",
              "      <td>my library</td>\n",
              "      <td>Local playlist more</td>\n",
              "      <td>local-library</td>\n",
              "      <td>0.0</td>\n",
              "      <td>65933</td>\n",
              "      <td>2122</td>\n",
              "      <td>Baby Jazz Project</td>\n",
              "      <td>Mozart</td>\n",
              "      <td>NaN</td>\n",
              "      <td>17.0</td>\n",
              "      <td>1</td>\n",
              "      <td>0</td>\n",
              "      <td>NaN</td>\n",
              "      <td>7</td>\n",
              "      <td>20120110</td>\n",
              "      <td>20171003</td>\n",
              "    </tr>\n",
              "    <tr>\n",
              "      <th>4</th>\n",
              "      <td>YNIddpB9u5tWONSwcnalYIgUPLrATajcE0ZLXMpMsMU=</td>\n",
              "      <td>+5YuKe9PH8qkt9BrHFxgMY4SsCXUn9DXTW3998Y6N7w=</td>\n",
              "      <td>explore</td>\n",
              "      <td>Online playlist more</td>\n",
              "      <td>online-playlist</td>\n",
              "      <td>0.0</td>\n",
              "      <td>224722</td>\n",
              "      <td>465</td>\n",
              "      <td>Ayaka (絢香)</td>\n",
              "      <td>絢香</td>\n",
              "      <td>絢香</td>\n",
              "      <td>17.0</td>\n",
              "      <td>1</td>\n",
              "      <td>0</td>\n",
              "      <td>NaN</td>\n",
              "      <td>4</td>\n",
              "      <td>20161030</td>\n",
              "      <td>20170828</td>\n",
              "    </tr>\n",
              "  </tbody>\n",
              "</table>\n",
              "</div>\n",
              "      <button class=\"colab-df-convert\" onclick=\"convertToInteractive('df-7edf8e04-c785-45f8-8fc7-4fdb075d128b')\"\n",
              "              title=\"Convert this dataframe to an interactive table.\"\n",
              "              style=\"display:none;\">\n",
              "        \n",
              "  <svg xmlns=\"http://www.w3.org/2000/svg\" height=\"24px\"viewBox=\"0 0 24 24\"\n",
              "       width=\"24px\">\n",
              "    <path d=\"M0 0h24v24H0V0z\" fill=\"none\"/>\n",
              "    <path d=\"M18.56 5.44l.94 2.06.94-2.06 2.06-.94-2.06-.94-.94-2.06-.94 2.06-2.06.94zm-11 1L8.5 8.5l.94-2.06 2.06-.94-2.06-.94L8.5 2.5l-.94 2.06-2.06.94zm10 10l.94 2.06.94-2.06 2.06-.94-2.06-.94-.94-2.06-.94 2.06-2.06.94z\"/><path d=\"M17.41 7.96l-1.37-1.37c-.4-.4-.92-.59-1.43-.59-.52 0-1.04.2-1.43.59L10.3 9.45l-7.72 7.72c-.78.78-.78 2.05 0 2.83L4 21.41c.39.39.9.59 1.41.59.51 0 1.02-.2 1.41-.59l7.78-7.78 2.81-2.81c.8-.78.8-2.07 0-2.86zM5.41 20L4 18.59l7.72-7.72 1.47 1.35L5.41 20z\"/>\n",
              "  </svg>\n",
              "      </button>\n",
              "      \n",
              "  <style>\n",
              "    .colab-df-container {\n",
              "      display:flex;\n",
              "      flex-wrap:wrap;\n",
              "      gap: 12px;\n",
              "    }\n",
              "\n",
              "    .colab-df-convert {\n",
              "      background-color: #E8F0FE;\n",
              "      border: none;\n",
              "      border-radius: 50%;\n",
              "      cursor: pointer;\n",
              "      display: none;\n",
              "      fill: #1967D2;\n",
              "      height: 32px;\n",
              "      padding: 0 0 0 0;\n",
              "      width: 32px;\n",
              "    }\n",
              "\n",
              "    .colab-df-convert:hover {\n",
              "      background-color: #E2EBFA;\n",
              "      box-shadow: 0px 1px 2px rgba(60, 64, 67, 0.3), 0px 1px 3px 1px rgba(60, 64, 67, 0.15);\n",
              "      fill: #174EA6;\n",
              "    }\n",
              "\n",
              "    [theme=dark] .colab-df-convert {\n",
              "      background-color: #3B4455;\n",
              "      fill: #D2E3FC;\n",
              "    }\n",
              "\n",
              "    [theme=dark] .colab-df-convert:hover {\n",
              "      background-color: #434B5C;\n",
              "      box-shadow: 0px 1px 3px 1px rgba(0, 0, 0, 0.15);\n",
              "      filter: drop-shadow(0px 1px 2px rgba(0, 0, 0, 0.3));\n",
              "      fill: #FFFFFF;\n",
              "    }\n",
              "  </style>\n",
              "\n",
              "      <script>\n",
              "        const buttonEl =\n",
              "          document.querySelector('#df-7edf8e04-c785-45f8-8fc7-4fdb075d128b button.colab-df-convert');\n",
              "        buttonEl.style.display =\n",
              "          google.colab.kernel.accessAllowed ? 'block' : 'none';\n",
              "\n",
              "        async function convertToInteractive(key) {\n",
              "          const element = document.querySelector('#df-7edf8e04-c785-45f8-8fc7-4fdb075d128b');\n",
              "          const dataTable =\n",
              "            await google.colab.kernel.invokeFunction('convertToInteractive',\n",
              "                                                     [key], {});\n",
              "          if (!dataTable) return;\n",
              "\n",
              "          const docLinkHtml = 'Like what you see? Visit the ' +\n",
              "            '<a target=\"_blank\" href=https://colab.research.google.com/notebooks/data_table.ipynb>data table notebook</a>'\n",
              "            + ' to learn more about interactive tables.';\n",
              "          element.innerHTML = '';\n",
              "          dataTable['output_type'] = 'display_data';\n",
              "          await google.colab.output.renderOutput(dataTable, element);\n",
              "          const docLink = document.createElement('div');\n",
              "          docLink.innerHTML = docLinkHtml;\n",
              "          element.appendChild(docLink);\n",
              "        }\n",
              "      </script>\n",
              "    </div>\n",
              "  </div>\n",
              "  "
            ],
            "text/plain": [
              "                                           msno  ... expiration_date\n",
              "0  5R+7rrEh/g+AQp3doc+1bHPkdfwR4Md45UOcAKnM3tI=  ...        20170911\n",
              "1  942u+6C0SFVjPKUI1/sJkHSgH6DeP2h0Y48YhR6+IWY=  ...        20170914\n",
              "2  LR9NLKme+aT6uoW3R5XlLu9gq7LQG6tt+bJTEPpcrGg=  ...        20170911\n",
              "3  uLeNE8TnnTMK5rfIgCyB/X07yBSkXrR0Dm/Vl5oYsUM=  ...        20171003\n",
              "4  YNIddpB9u5tWONSwcnalYIgUPLrATajcE0ZLXMpMsMU=  ...        20170828\n",
              "\n",
              "[5 rows x 18 columns]"
            ]
          },
          "metadata": {},
          "execution_count": 16
        }
      ]
    },
    {
      "cell_type": "code",
      "source": [
        "data.info()"
      ],
      "metadata": {
        "id": "Vr2WKoOJHIZX",
        "colab": {
          "base_uri": "https://localhost:8080/"
        },
        "outputId": "1ea8d91c-9c8c-4183-ef07-065fd2d29421"
      },
      "execution_count": null,
      "outputs": [
        {
          "output_type": "stream",
          "name": "stdout",
          "text": [
            "<class 'pandas.core.frame.DataFrame'>\n",
            "Int64Index: 7040 entries, 0 to 7039\n",
            "Data columns (total 18 columns):\n",
            " #   Column                  Non-Null Count  Dtype  \n",
            "---  ------                  --------------  -----  \n",
            " 0   msno                    7040 non-null   object \n",
            " 1   song_id                 7040 non-null   object \n",
            " 2   source_system_tab       7024 non-null   object \n",
            " 3   source_screen_name      6721 non-null   object \n",
            " 4   source_type             7026 non-null   object \n",
            " 5   target                  7040 non-null   float64\n",
            " 6   song_length             7040 non-null   int64  \n",
            " 7   genre_ids               6942 non-null   object \n",
            " 8   artist_name             7040 non-null   object \n",
            " 9   composer                5496 non-null   object \n",
            " 10  lyricist                4078 non-null   object \n",
            " 11  language                7040 non-null   float64\n",
            " 12  city                    7040 non-null   int64  \n",
            " 13  bd                      7040 non-null   int64  \n",
            " 14  gender                  4290 non-null   object \n",
            " 15  registered_via          7040 non-null   int64  \n",
            " 16  registration_init_time  7040 non-null   int64  \n",
            " 17  expiration_date         7040 non-null   int64  \n",
            "dtypes: float64(2), int64(6), object(10)\n",
            "memory usage: 1.0+ MB\n"
          ]
        }
      ]
    },
    {
      "cell_type": "markdown",
      "source": [
        "## Data Preprocessing"
      ],
      "metadata": {
        "id": "hLuZtwZENdCr"
      }
    },
    {
      "cell_type": "code",
      "source": [
        "data.isnull().sum()"
      ],
      "metadata": {
        "id": "Qh_bV_5EHeHL",
        "colab": {
          "base_uri": "https://localhost:8080/"
        },
        "outputId": "d750db08-6199-4582-893b-2135c645e0a4"
      },
      "execution_count": null,
      "outputs": [
        {
          "output_type": "execute_result",
          "data": {
            "text/plain": [
              "msno                         0\n",
              "song_id                      0\n",
              "source_system_tab           16\n",
              "source_screen_name         319\n",
              "source_type                 14\n",
              "target                       0\n",
              "song_length                  0\n",
              "genre_ids                   98\n",
              "artist_name                  0\n",
              "composer                  1544\n",
              "lyricist                  2962\n",
              "language                     0\n",
              "city                         0\n",
              "bd                           0\n",
              "gender                    2750\n",
              "registered_via               0\n",
              "registration_init_time       0\n",
              "expiration_date              0\n",
              "dtype: int64"
            ]
          },
          "metadata": {},
          "execution_count": 18
        }
      ]
    },
    {
      "cell_type": "code",
      "source": [
        "# Count Na in %\n",
        "data.isnull().sum()/data.isnull().count() * 100"
      ],
      "metadata": {
        "id": "q6MGxt6bHiip",
        "colab": {
          "base_uri": "https://localhost:8080/"
        },
        "outputId": "aef49204-1888-411e-9168-4c613a31521a"
      },
      "execution_count": null,
      "outputs": [
        {
          "output_type": "execute_result",
          "data": {
            "text/plain": [
              "msno                       0.000000\n",
              "song_id                    0.000000\n",
              "source_system_tab          0.227273\n",
              "source_screen_name         4.531250\n",
              "source_type                0.198864\n",
              "target                     0.000000\n",
              "song_length                0.000000\n",
              "genre_ids                  1.392045\n",
              "artist_name                0.000000\n",
              "composer                  21.931818\n",
              "lyricist                  42.073864\n",
              "language                   0.000000\n",
              "city                       0.000000\n",
              "bd                         0.000000\n",
              "gender                    39.062500\n",
              "registered_via             0.000000\n",
              "registration_init_time     0.000000\n",
              "expiration_date            0.000000\n",
              "dtype: float64"
            ]
          },
          "metadata": {},
          "execution_count": 19
        }
      ]
    },
    {
      "cell_type": "code",
      "source": [
        "# Replace NA\n",
        "for i in data.select_dtypes(include=['object']).columns:\n",
        "    data[i][data[i].isnull()] = 'unknown'\n",
        "df = data.fillna(value=0)"
      ],
      "metadata": {
        "id": "4wjbi1F9HtDX"
      },
      "execution_count": null,
      "outputs": []
    },
    {
      "cell_type": "code",
      "source": [
        "# Create Dates\n",
        "\n",
        "# registration_init_time\n",
        "df.registration_init_time = pd.to_datetime(df.registration_init_time, format='%Y%m%d', errors='ignore')\n",
        "df['registration_init_time_year'] = df['registration_init_time'].dt.year\n",
        "df['registration_init_time_month'] = df['registration_init_time'].dt.month\n",
        "df['registration_init_time_day'] = df['registration_init_time'].dt.day\n",
        "\n",
        "# expiration_date\n",
        "df.expiration_date = pd.to_datetime(df.expiration_date,  format='%Y%m%d', errors='ignore')\n",
        "df['expiration_date_year'] = df['expiration_date'].dt.year\n",
        "df['expiration_date_month'] = df['expiration_date'].dt.month\n",
        "df['expiration_date_day'] = df['expiration_date'].dt.day"
      ],
      "metadata": {
        "id": "pfvq5EFmJ4OS"
      },
      "execution_count": null,
      "outputs": []
    },
    {
      "cell_type": "code",
      "source": [
        "df.head()"
      ],
      "metadata": {
        "id": "X2JyezhCJ_39",
        "colab": {
          "base_uri": "https://localhost:8080/",
          "height": 426
        },
        "outputId": "8d1fc571-792a-4aef-b542-01529780340e"
      },
      "execution_count": null,
      "outputs": [
        {
          "output_type": "execute_result",
          "data": {
            "text/html": [
              "\n",
              "  <div id=\"df-f5c8d469-ddb0-46a4-ba04-38d308c383d0\">\n",
              "    <div class=\"colab-df-container\">\n",
              "      <div>\n",
              "<style scoped>\n",
              "    .dataframe tbody tr th:only-of-type {\n",
              "        vertical-align: middle;\n",
              "    }\n",
              "\n",
              "    .dataframe tbody tr th {\n",
              "        vertical-align: top;\n",
              "    }\n",
              "\n",
              "    .dataframe thead th {\n",
              "        text-align: right;\n",
              "    }\n",
              "</style>\n",
              "<table border=\"1\" class=\"dataframe\">\n",
              "  <thead>\n",
              "    <tr style=\"text-align: right;\">\n",
              "      <th></th>\n",
              "      <th>msno</th>\n",
              "      <th>song_id</th>\n",
              "      <th>source_system_tab</th>\n",
              "      <th>source_screen_name</th>\n",
              "      <th>source_type</th>\n",
              "      <th>target</th>\n",
              "      <th>song_length</th>\n",
              "      <th>genre_ids</th>\n",
              "      <th>artist_name</th>\n",
              "      <th>composer</th>\n",
              "      <th>lyricist</th>\n",
              "      <th>language</th>\n",
              "      <th>city</th>\n",
              "      <th>bd</th>\n",
              "      <th>gender</th>\n",
              "      <th>registered_via</th>\n",
              "      <th>registration_init_time</th>\n",
              "      <th>expiration_date</th>\n",
              "      <th>registration_init_time_year</th>\n",
              "      <th>registration_init_time_month</th>\n",
              "      <th>registration_init_time_day</th>\n",
              "      <th>expiration_date_year</th>\n",
              "      <th>expiration_date_month</th>\n",
              "      <th>expiration_date_day</th>\n",
              "    </tr>\n",
              "  </thead>\n",
              "  <tbody>\n",
              "    <tr>\n",
              "      <th>0</th>\n",
              "      <td>5R+7rrEh/g+AQp3doc+1bHPkdfwR4Md45UOcAKnM3tI=</td>\n",
              "      <td>6EzQaWbZSgTRIkklX6A0x9sw78XXHboQiCmLBJPQqB8=</td>\n",
              "      <td>my library</td>\n",
              "      <td>Local playlist more</td>\n",
              "      <td>local-library</td>\n",
              "      <td>1.0</td>\n",
              "      <td>251040</td>\n",
              "      <td>458</td>\n",
              "      <td>徐佳瑩 (Lala Hsu)</td>\n",
              "      <td>徐佳瑩</td>\n",
              "      <td>徐佳瑩</td>\n",
              "      <td>3.0</td>\n",
              "      <td>3</td>\n",
              "      <td>18</td>\n",
              "      <td>male</td>\n",
              "      <td>9</td>\n",
              "      <td>2015-03-29</td>\n",
              "      <td>2017-09-11</td>\n",
              "      <td>2015</td>\n",
              "      <td>3</td>\n",
              "      <td>29</td>\n",
              "      <td>2017</td>\n",
              "      <td>9</td>\n",
              "      <td>11</td>\n",
              "    </tr>\n",
              "    <tr>\n",
              "      <th>1</th>\n",
              "      <td>942u+6C0SFVjPKUI1/sJkHSgH6DeP2h0Y48YhR6+IWY=</td>\n",
              "      <td>shYcSF/8MpYMxMzLfRznBZjwoQIvd+RUH06UamCj8ks=</td>\n",
              "      <td>my library</td>\n",
              "      <td>Local playlist more</td>\n",
              "      <td>local-playlist</td>\n",
              "      <td>0.0</td>\n",
              "      <td>205635</td>\n",
              "      <td>465</td>\n",
              "      <td>Justin Bieber</td>\n",
              "      <td>Justin Bieber| Jason Boyd| Mason Levy</td>\n",
              "      <td>unknown</td>\n",
              "      <td>52.0</td>\n",
              "      <td>13</td>\n",
              "      <td>28</td>\n",
              "      <td>female</td>\n",
              "      <td>9</td>\n",
              "      <td>2010-06-08</td>\n",
              "      <td>2017-09-14</td>\n",
              "      <td>2010</td>\n",
              "      <td>6</td>\n",
              "      <td>8</td>\n",
              "      <td>2017</td>\n",
              "      <td>9</td>\n",
              "      <td>14</td>\n",
              "    </tr>\n",
              "    <tr>\n",
              "      <th>2</th>\n",
              "      <td>LR9NLKme+aT6uoW3R5XlLu9gq7LQG6tt+bJTEPpcrGg=</td>\n",
              "      <td>QFhJM9IlFl7Dl1mLQe8BIb656wgxqRuVoQ+RxRxD4Ts=</td>\n",
              "      <td>radio</td>\n",
              "      <td>Radio</td>\n",
              "      <td>radio</td>\n",
              "      <td>1.0</td>\n",
              "      <td>225094</td>\n",
              "      <td>465</td>\n",
              "      <td>羅志祥 (Show Lo)</td>\n",
              "      <td>unknown</td>\n",
              "      <td>unknown</td>\n",
              "      <td>3.0</td>\n",
              "      <td>1</td>\n",
              "      <td>0</td>\n",
              "      <td>unknown</td>\n",
              "      <td>7</td>\n",
              "      <td>2015-09-12</td>\n",
              "      <td>2017-09-11</td>\n",
              "      <td>2015</td>\n",
              "      <td>9</td>\n",
              "      <td>12</td>\n",
              "      <td>2017</td>\n",
              "      <td>9</td>\n",
              "      <td>11</td>\n",
              "    </tr>\n",
              "    <tr>\n",
              "      <th>3</th>\n",
              "      <td>uLeNE8TnnTMK5rfIgCyB/X07yBSkXrR0Dm/Vl5oYsUM=</td>\n",
              "      <td>j1x1gaWzftYafMxJYm5q/4ekQk/X4YeQsybjptEay48=</td>\n",
              "      <td>my library</td>\n",
              "      <td>Local playlist more</td>\n",
              "      <td>local-library</td>\n",
              "      <td>0.0</td>\n",
              "      <td>65933</td>\n",
              "      <td>2122</td>\n",
              "      <td>Baby Jazz Project</td>\n",
              "      <td>Mozart</td>\n",
              "      <td>unknown</td>\n",
              "      <td>17.0</td>\n",
              "      <td>1</td>\n",
              "      <td>0</td>\n",
              "      <td>unknown</td>\n",
              "      <td>7</td>\n",
              "      <td>2012-01-10</td>\n",
              "      <td>2017-10-03</td>\n",
              "      <td>2012</td>\n",
              "      <td>1</td>\n",
              "      <td>10</td>\n",
              "      <td>2017</td>\n",
              "      <td>10</td>\n",
              "      <td>3</td>\n",
              "    </tr>\n",
              "    <tr>\n",
              "      <th>4</th>\n",
              "      <td>YNIddpB9u5tWONSwcnalYIgUPLrATajcE0ZLXMpMsMU=</td>\n",
              "      <td>+5YuKe9PH8qkt9BrHFxgMY4SsCXUn9DXTW3998Y6N7w=</td>\n",
              "      <td>explore</td>\n",
              "      <td>Online playlist more</td>\n",
              "      <td>online-playlist</td>\n",
              "      <td>0.0</td>\n",
              "      <td>224722</td>\n",
              "      <td>465</td>\n",
              "      <td>Ayaka (絢香)</td>\n",
              "      <td>絢香</td>\n",
              "      <td>絢香</td>\n",
              "      <td>17.0</td>\n",
              "      <td>1</td>\n",
              "      <td>0</td>\n",
              "      <td>unknown</td>\n",
              "      <td>4</td>\n",
              "      <td>2016-10-30</td>\n",
              "      <td>2017-08-28</td>\n",
              "      <td>2016</td>\n",
              "      <td>10</td>\n",
              "      <td>30</td>\n",
              "      <td>2017</td>\n",
              "      <td>8</td>\n",
              "      <td>28</td>\n",
              "    </tr>\n",
              "  </tbody>\n",
              "</table>\n",
              "</div>\n",
              "      <button class=\"colab-df-convert\" onclick=\"convertToInteractive('df-f5c8d469-ddb0-46a4-ba04-38d308c383d0')\"\n",
              "              title=\"Convert this dataframe to an interactive table.\"\n",
              "              style=\"display:none;\">\n",
              "        \n",
              "  <svg xmlns=\"http://www.w3.org/2000/svg\" height=\"24px\"viewBox=\"0 0 24 24\"\n",
              "       width=\"24px\">\n",
              "    <path d=\"M0 0h24v24H0V0z\" fill=\"none\"/>\n",
              "    <path d=\"M18.56 5.44l.94 2.06.94-2.06 2.06-.94-2.06-.94-.94-2.06-.94 2.06-2.06.94zm-11 1L8.5 8.5l.94-2.06 2.06-.94-2.06-.94L8.5 2.5l-.94 2.06-2.06.94zm10 10l.94 2.06.94-2.06 2.06-.94-2.06-.94-.94-2.06-.94 2.06-2.06.94z\"/><path d=\"M17.41 7.96l-1.37-1.37c-.4-.4-.92-.59-1.43-.59-.52 0-1.04.2-1.43.59L10.3 9.45l-7.72 7.72c-.78.78-.78 2.05 0 2.83L4 21.41c.39.39.9.59 1.41.59.51 0 1.02-.2 1.41-.59l7.78-7.78 2.81-2.81c.8-.78.8-2.07 0-2.86zM5.41 20L4 18.59l7.72-7.72 1.47 1.35L5.41 20z\"/>\n",
              "  </svg>\n",
              "      </button>\n",
              "      \n",
              "  <style>\n",
              "    .colab-df-container {\n",
              "      display:flex;\n",
              "      flex-wrap:wrap;\n",
              "      gap: 12px;\n",
              "    }\n",
              "\n",
              "    .colab-df-convert {\n",
              "      background-color: #E8F0FE;\n",
              "      border: none;\n",
              "      border-radius: 50%;\n",
              "      cursor: pointer;\n",
              "      display: none;\n",
              "      fill: #1967D2;\n",
              "      height: 32px;\n",
              "      padding: 0 0 0 0;\n",
              "      width: 32px;\n",
              "    }\n",
              "\n",
              "    .colab-df-convert:hover {\n",
              "      background-color: #E2EBFA;\n",
              "      box-shadow: 0px 1px 2px rgba(60, 64, 67, 0.3), 0px 1px 3px 1px rgba(60, 64, 67, 0.15);\n",
              "      fill: #174EA6;\n",
              "    }\n",
              "\n",
              "    [theme=dark] .colab-df-convert {\n",
              "      background-color: #3B4455;\n",
              "      fill: #D2E3FC;\n",
              "    }\n",
              "\n",
              "    [theme=dark] .colab-df-convert:hover {\n",
              "      background-color: #434B5C;\n",
              "      box-shadow: 0px 1px 3px 1px rgba(0, 0, 0, 0.15);\n",
              "      filter: drop-shadow(0px 1px 2px rgba(0, 0, 0, 0.3));\n",
              "      fill: #FFFFFF;\n",
              "    }\n",
              "  </style>\n",
              "\n",
              "      <script>\n",
              "        const buttonEl =\n",
              "          document.querySelector('#df-f5c8d469-ddb0-46a4-ba04-38d308c383d0 button.colab-df-convert');\n",
              "        buttonEl.style.display =\n",
              "          google.colab.kernel.accessAllowed ? 'block' : 'none';\n",
              "\n",
              "        async function convertToInteractive(key) {\n",
              "          const element = document.querySelector('#df-f5c8d469-ddb0-46a4-ba04-38d308c383d0');\n",
              "          const dataTable =\n",
              "            await google.colab.kernel.invokeFunction('convertToInteractive',\n",
              "                                                     [key], {});\n",
              "          if (!dataTable) return;\n",
              "\n",
              "          const docLinkHtml = 'Like what you see? Visit the ' +\n",
              "            '<a target=\"_blank\" href=https://colab.research.google.com/notebooks/data_table.ipynb>data table notebook</a>'\n",
              "            + ' to learn more about interactive tables.';\n",
              "          element.innerHTML = '';\n",
              "          dataTable['output_type'] = 'display_data';\n",
              "          await google.colab.output.renderOutput(dataTable, element);\n",
              "          const docLink = document.createElement('div');\n",
              "          docLink.innerHTML = docLinkHtml;\n",
              "          element.appendChild(docLink);\n",
              "        }\n",
              "      </script>\n",
              "    </div>\n",
              "  </div>\n",
              "  "
            ],
            "text/plain": [
              "                                           msno  ... expiration_date_day\n",
              "0  5R+7rrEh/g+AQp3doc+1bHPkdfwR4Md45UOcAKnM3tI=  ...                  11\n",
              "1  942u+6C0SFVjPKUI1/sJkHSgH6DeP2h0Y48YhR6+IWY=  ...                  14\n",
              "2  LR9NLKme+aT6uoW3R5XlLu9gq7LQG6tt+bJTEPpcrGg=  ...                  11\n",
              "3  uLeNE8TnnTMK5rfIgCyB/X07yBSkXrR0Dm/Vl5oYsUM=  ...                   3\n",
              "4  YNIddpB9u5tWONSwcnalYIgUPLrATajcE0ZLXMpMsMU=  ...                  28\n",
              "\n",
              "[5 rows x 24 columns]"
            ]
          },
          "metadata": {},
          "execution_count": 22
        }
      ]
    },
    {
      "cell_type": "markdown",
      "source": [
        "Converting into Categorical data"
      ],
      "metadata": {
        "id": "eahrU-C_KMih"
      }
    },
    {
      "cell_type": "code",
      "source": [
        "# Dates to categoty\n",
        "df['registration_init_time'] = df['registration_init_time'].astype('category')\n",
        "df['expiration_date'] = df['expiration_date'].astype('category')"
      ],
      "metadata": {
        "id": "FsLbJB26KO4X"
      },
      "execution_count": null,
      "outputs": []
    },
    {
      "cell_type": "code",
      "source": [
        "# Object data to category\n",
        "for col in df.select_dtypes(include=['object']).columns:\n",
        "    df[col] = df[col].astype('category')"
      ],
      "metadata": {
        "id": "QKur0xkBKXar"
      },
      "execution_count": null,
      "outputs": []
    },
    {
      "cell_type": "code",
      "source": [
        "df.info()"
      ],
      "metadata": {
        "id": "O9-gvNa5KqMF",
        "colab": {
          "base_uri": "https://localhost:8080/"
        },
        "outputId": "fc5cb6c3-c463-4060-d308-2d1a02a508e8"
      },
      "execution_count": null,
      "outputs": [
        {
          "output_type": "stream",
          "name": "stdout",
          "text": [
            "<class 'pandas.core.frame.DataFrame'>\n",
            "Int64Index: 7040 entries, 0 to 7039\n",
            "Data columns (total 24 columns):\n",
            " #   Column                        Non-Null Count  Dtype   \n",
            "---  ------                        --------------  -----   \n",
            " 0   msno                          7040 non-null   category\n",
            " 1   song_id                       7040 non-null   category\n",
            " 2   source_system_tab             7040 non-null   category\n",
            " 3   source_screen_name            7040 non-null   category\n",
            " 4   source_type                   7040 non-null   category\n",
            " 5   target                        7040 non-null   float64 \n",
            " 6   song_length                   7040 non-null   int64   \n",
            " 7   genre_ids                     7040 non-null   category\n",
            " 8   artist_name                   7040 non-null   category\n",
            " 9   composer                      7040 non-null   category\n",
            " 10  lyricist                      7040 non-null   category\n",
            " 11  language                      7040 non-null   float64 \n",
            " 12  city                          7040 non-null   int64   \n",
            " 13  bd                            7040 non-null   int64   \n",
            " 14  gender                        7040 non-null   category\n",
            " 15  registered_via                7040 non-null   int64   \n",
            " 16  registration_init_time        7040 non-null   category\n",
            " 17  expiration_date               7040 non-null   category\n",
            " 18  registration_init_time_year   7040 non-null   int64   \n",
            " 19  registration_init_time_month  7040 non-null   int64   \n",
            " 20  registration_init_time_day    7040 non-null   int64   \n",
            " 21  expiration_date_year          7040 non-null   int64   \n",
            " 22  expiration_date_month         7040 non-null   int64   \n",
            " 23  expiration_date_day           7040 non-null   int64   \n",
            "dtypes: category(12), float64(2), int64(10)\n",
            "memory usage: 1.6 MB\n"
          ]
        }
      ]
    },
    {
      "cell_type": "markdown",
      "source": [
        "Colums with categorical data"
      ],
      "metadata": {
        "id": "vVnnvdQoNpnT"
      }
    },
    {
      "cell_type": "code",
      "source": [
        "cat_cols = []\n",
        "for col in df.select_dtypes(include=['category']).columns:\n",
        "    cat_cols.append(col)\n",
        "print(cat_cols)"
      ],
      "metadata": {
        "id": "QEhzGFx4Lj4U",
        "colab": {
          "base_uri": "https://localhost:8080/"
        },
        "outputId": "6b27fb46-6e23-478c-f9d2-d220feaf4648"
      },
      "execution_count": null,
      "outputs": [
        {
          "output_type": "stream",
          "name": "stdout",
          "text": [
            "['msno', 'song_id', 'source_system_tab', 'source_screen_name', 'source_type', 'genre_ids', 'artist_name', 'composer', 'lyricist', 'gender', 'registration_init_time', 'expiration_date']\n"
          ]
        }
      ]
    },
    {
      "cell_type": "markdown",
      "source": [
        "### Encoding\n",
        "Label encoding"
      ],
      "metadata": {
        "id": "mRVRN_tvMN1-"
      }
    },
    {
      "cell_type": "code",
      "source": [
        "le = LabelEncoder()\n",
        "encoded_df = df\n",
        "for i in cat_cols:\n",
        "  encoded_df[i] = le.fit_transform(df[i])"
      ],
      "metadata": {
        "id": "GtI9vp9WMJyQ"
      },
      "execution_count": null,
      "outputs": []
    },
    {
      "cell_type": "code",
      "source": [
        "encoded_df.head()"
      ],
      "metadata": {
        "id": "T17po8dpQAuz",
        "colab": {
          "base_uri": "https://localhost:8080/",
          "height": 270
        },
        "outputId": "79a71629-a3d2-4981-9c46-94109a438958"
      },
      "execution_count": null,
      "outputs": [
        {
          "output_type": "execute_result",
          "data": {
            "text/html": [
              "\n",
              "  <div id=\"df-756f63ce-5685-422c-b73d-06df6d13d13a\">\n",
              "    <div class=\"colab-df-container\">\n",
              "      <div>\n",
              "<style scoped>\n",
              "    .dataframe tbody tr th:only-of-type {\n",
              "        vertical-align: middle;\n",
              "    }\n",
              "\n",
              "    .dataframe tbody tr th {\n",
              "        vertical-align: top;\n",
              "    }\n",
              "\n",
              "    .dataframe thead th {\n",
              "        text-align: right;\n",
              "    }\n",
              "</style>\n",
              "<table border=\"1\" class=\"dataframe\">\n",
              "  <thead>\n",
              "    <tr style=\"text-align: right;\">\n",
              "      <th></th>\n",
              "      <th>msno</th>\n",
              "      <th>song_id</th>\n",
              "      <th>source_system_tab</th>\n",
              "      <th>source_screen_name</th>\n",
              "      <th>source_type</th>\n",
              "      <th>target</th>\n",
              "      <th>song_length</th>\n",
              "      <th>genre_ids</th>\n",
              "      <th>artist_name</th>\n",
              "      <th>composer</th>\n",
              "      <th>lyricist</th>\n",
              "      <th>language</th>\n",
              "      <th>city</th>\n",
              "      <th>bd</th>\n",
              "      <th>gender</th>\n",
              "      <th>registered_via</th>\n",
              "      <th>registration_init_time</th>\n",
              "      <th>expiration_date</th>\n",
              "      <th>registration_init_time_year</th>\n",
              "      <th>registration_init_time_month</th>\n",
              "      <th>registration_init_time_day</th>\n",
              "      <th>expiration_date_year</th>\n",
              "      <th>expiration_date_month</th>\n",
              "      <th>expiration_date_day</th>\n",
              "    </tr>\n",
              "  </thead>\n",
              "  <tbody>\n",
              "    <tr>\n",
              "      <th>0</th>\n",
              "      <td>567</td>\n",
              "      <td>533</td>\n",
              "      <td>3</td>\n",
              "      <td>7</td>\n",
              "      <td>3</td>\n",
              "      <td>1.0</td>\n",
              "      <td>251040</td>\n",
              "      <td>56</td>\n",
              "      <td>1188</td>\n",
              "      <td>1698</td>\n",
              "      <td>872</td>\n",
              "      <td>3.0</td>\n",
              "      <td>3</td>\n",
              "      <td>18</td>\n",
              "      <td>1</td>\n",
              "      <td>9</td>\n",
              "      <td>1855</td>\n",
              "      <td>321</td>\n",
              "      <td>2015</td>\n",
              "      <td>3</td>\n",
              "      <td>29</td>\n",
              "      <td>2017</td>\n",
              "      <td>9</td>\n",
              "      <td>11</td>\n",
              "    </tr>\n",
              "    <tr>\n",
              "      <th>1</th>\n",
              "      <td>851</td>\n",
              "      <td>4006</td>\n",
              "      <td>3</td>\n",
              "      <td>7</td>\n",
              "      <td>4</td>\n",
              "      <td>0.0</td>\n",
              "      <td>205635</td>\n",
              "      <td>58</td>\n",
              "      <td>454</td>\n",
              "      <td>712</td>\n",
              "      <td>645</td>\n",
              "      <td>52.0</td>\n",
              "      <td>13</td>\n",
              "      <td>28</td>\n",
              "      <td>0</td>\n",
              "      <td>9</td>\n",
              "      <td>601</td>\n",
              "      <td>324</td>\n",
              "      <td>2010</td>\n",
              "      <td>6</td>\n",
              "      <td>8</td>\n",
              "      <td>2017</td>\n",
              "      <td>9</td>\n",
              "      <td>14</td>\n",
              "    </tr>\n",
              "    <tr>\n",
              "      <th>2</th>\n",
              "      <td>1832</td>\n",
              "      <td>1945</td>\n",
              "      <td>5</td>\n",
              "      <td>12</td>\n",
              "      <td>6</td>\n",
              "      <td>1.0</td>\n",
              "      <td>225094</td>\n",
              "      <td>58</td>\n",
              "      <td>1402</td>\n",
              "      <td>1509</td>\n",
              "      <td>645</td>\n",
              "      <td>3.0</td>\n",
              "      <td>1</td>\n",
              "      <td>0</td>\n",
              "      <td>2</td>\n",
              "      <td>7</td>\n",
              "      <td>1994</td>\n",
              "      <td>321</td>\n",
              "      <td>2015</td>\n",
              "      <td>9</td>\n",
              "      <td>12</td>\n",
              "      <td>2017</td>\n",
              "      <td>9</td>\n",
              "      <td>11</td>\n",
              "    </tr>\n",
              "    <tr>\n",
              "      <th>3</th>\n",
              "      <td>4627</td>\n",
              "      <td>3298</td>\n",
              "      <td>3</td>\n",
              "      <td>7</td>\n",
              "      <td>3</td>\n",
              "      <td>0.0</td>\n",
              "      <td>65933</td>\n",
              "      <td>31</td>\n",
              "      <td>113</td>\n",
              "      <td>980</td>\n",
              "      <td>645</td>\n",
              "      <td>17.0</td>\n",
              "      <td>1</td>\n",
              "      <td>0</td>\n",
              "      <td>2</td>\n",
              "      <td>7</td>\n",
              "      <td>1023</td>\n",
              "      <td>343</td>\n",
              "      <td>2012</td>\n",
              "      <td>1</td>\n",
              "      <td>10</td>\n",
              "      <td>2017</td>\n",
              "      <td>10</td>\n",
              "      <td>3</td>\n",
              "    </tr>\n",
              "    <tr>\n",
              "      <th>4</th>\n",
              "      <td>2857</td>\n",
              "      <td>5</td>\n",
              "      <td>1</td>\n",
              "      <td>10</td>\n",
              "      <td>5</td>\n",
              "      <td>0.0</td>\n",
              "      <td>224722</td>\n",
              "      <td>58</td>\n",
              "      <td>93</td>\n",
              "      <td>1923</td>\n",
              "      <td>1106</td>\n",
              "      <td>17.0</td>\n",
              "      <td>1</td>\n",
              "      <td>0</td>\n",
              "      <td>2</td>\n",
              "      <td>4</td>\n",
              "      <td>2327</td>\n",
              "      <td>307</td>\n",
              "      <td>2016</td>\n",
              "      <td>10</td>\n",
              "      <td>30</td>\n",
              "      <td>2017</td>\n",
              "      <td>8</td>\n",
              "      <td>28</td>\n",
              "    </tr>\n",
              "  </tbody>\n",
              "</table>\n",
              "</div>\n",
              "      <button class=\"colab-df-convert\" onclick=\"convertToInteractive('df-756f63ce-5685-422c-b73d-06df6d13d13a')\"\n",
              "              title=\"Convert this dataframe to an interactive table.\"\n",
              "              style=\"display:none;\">\n",
              "        \n",
              "  <svg xmlns=\"http://www.w3.org/2000/svg\" height=\"24px\"viewBox=\"0 0 24 24\"\n",
              "       width=\"24px\">\n",
              "    <path d=\"M0 0h24v24H0V0z\" fill=\"none\"/>\n",
              "    <path d=\"M18.56 5.44l.94 2.06.94-2.06 2.06-.94-2.06-.94-.94-2.06-.94 2.06-2.06.94zm-11 1L8.5 8.5l.94-2.06 2.06-.94-2.06-.94L8.5 2.5l-.94 2.06-2.06.94zm10 10l.94 2.06.94-2.06 2.06-.94-2.06-.94-.94-2.06-.94 2.06-2.06.94z\"/><path d=\"M17.41 7.96l-1.37-1.37c-.4-.4-.92-.59-1.43-.59-.52 0-1.04.2-1.43.59L10.3 9.45l-7.72 7.72c-.78.78-.78 2.05 0 2.83L4 21.41c.39.39.9.59 1.41.59.51 0 1.02-.2 1.41-.59l7.78-7.78 2.81-2.81c.8-.78.8-2.07 0-2.86zM5.41 20L4 18.59l7.72-7.72 1.47 1.35L5.41 20z\"/>\n",
              "  </svg>\n",
              "      </button>\n",
              "      \n",
              "  <style>\n",
              "    .colab-df-container {\n",
              "      display:flex;\n",
              "      flex-wrap:wrap;\n",
              "      gap: 12px;\n",
              "    }\n",
              "\n",
              "    .colab-df-convert {\n",
              "      background-color: #E8F0FE;\n",
              "      border: none;\n",
              "      border-radius: 50%;\n",
              "      cursor: pointer;\n",
              "      display: none;\n",
              "      fill: #1967D2;\n",
              "      height: 32px;\n",
              "      padding: 0 0 0 0;\n",
              "      width: 32px;\n",
              "    }\n",
              "\n",
              "    .colab-df-convert:hover {\n",
              "      background-color: #E2EBFA;\n",
              "      box-shadow: 0px 1px 2px rgba(60, 64, 67, 0.3), 0px 1px 3px 1px rgba(60, 64, 67, 0.15);\n",
              "      fill: #174EA6;\n",
              "    }\n",
              "\n",
              "    [theme=dark] .colab-df-convert {\n",
              "      background-color: #3B4455;\n",
              "      fill: #D2E3FC;\n",
              "    }\n",
              "\n",
              "    [theme=dark] .colab-df-convert:hover {\n",
              "      background-color: #434B5C;\n",
              "      box-shadow: 0px 1px 3px 1px rgba(0, 0, 0, 0.15);\n",
              "      filter: drop-shadow(0px 1px 2px rgba(0, 0, 0, 0.3));\n",
              "      fill: #FFFFFF;\n",
              "    }\n",
              "  </style>\n",
              "\n",
              "      <script>\n",
              "        const buttonEl =\n",
              "          document.querySelector('#df-756f63ce-5685-422c-b73d-06df6d13d13a button.colab-df-convert');\n",
              "        buttonEl.style.display =\n",
              "          google.colab.kernel.accessAllowed ? 'block' : 'none';\n",
              "\n",
              "        async function convertToInteractive(key) {\n",
              "          const element = document.querySelector('#df-756f63ce-5685-422c-b73d-06df6d13d13a');\n",
              "          const dataTable =\n",
              "            await google.colab.kernel.invokeFunction('convertToInteractive',\n",
              "                                                     [key], {});\n",
              "          if (!dataTable) return;\n",
              "\n",
              "          const docLinkHtml = 'Like what you see? Visit the ' +\n",
              "            '<a target=\"_blank\" href=https://colab.research.google.com/notebooks/data_table.ipynb>data table notebook</a>'\n",
              "            + ' to learn more about interactive tables.';\n",
              "          element.innerHTML = '';\n",
              "          dataTable['output_type'] = 'display_data';\n",
              "          await google.colab.output.renderOutput(dataTable, element);\n",
              "          const docLink = document.createElement('div');\n",
              "          docLink.innerHTML = docLinkHtml;\n",
              "          element.appendChild(docLink);\n",
              "        }\n",
              "      </script>\n",
              "    </div>\n",
              "  </div>\n",
              "  "
            ],
            "text/plain": [
              "   msno  song_id  ...  expiration_date_month  expiration_date_day\n",
              "0   567      533  ...                      9                   11\n",
              "1   851     4006  ...                      9                   14\n",
              "2  1832     1945  ...                      9                   11\n",
              "3  4627     3298  ...                     10                    3\n",
              "4  2857        5  ...                      8                   28\n",
              "\n",
              "[5 rows x 24 columns]"
            ]
          },
          "metadata": {},
          "execution_count": 28
        }
      ]
    },
    {
      "cell_type": "markdown",
      "source": [
        "## Correlation matrix"
      ],
      "metadata": {
        "id": "A6DMC6aJPt76"
      }
    },
    {
      "cell_type": "code",
      "source": [
        "plt.figure(figsize=[7,5])\n",
        "sns.heatmap(encoded_df.corr())\n",
        "plt.show()"
      ],
      "metadata": {
        "id": "wBbWxCjOPtXb",
        "colab": {
          "base_uri": "https://localhost:8080/",
          "height": 457
        },
        "outputId": "02503e1d-30ec-4fd1-a0e3-bd3d0279e303"
      },
      "execution_count": null,
      "outputs": [
        {
          "output_type": "display_data",
          "data": {
            "image/png": "[encoded data removed]",
            "text/plain": [
              "<Figure size 504x360 with 2 Axes>"
            ]
          },
          "metadata": {
            "needs_background": "light"
          }
        }
      ]
    },
    {
      "cell_type": "code",
      "source": [
        "# Drop columns\n",
        "encoded_df = encoded_df.drop(['expiration_date', 'lyricist'], 1)"
      ],
      "metadata": {
        "id": "uIBVzAuJRHsY"
      },
      "execution_count": null,
      "outputs": []
    },
    {
      "cell_type": "code",
      "source": [
        "y = encoded_df['target']\n",
        "X = encoded_df.drop(['target'],1)"
      ],
      "metadata": {
        "id": "vNeN4Vx8RXMx"
      },
      "execution_count": null,
      "outputs": []
    },
    {
      "cell_type": "code",
      "source": [
        "X.head()"
      ],
      "metadata": {
        "id": "P5tpLy-_RsFQ",
        "colab": {
          "base_uri": "https://localhost:8080/",
          "height": 270
        },
        "outputId": "544211bf-374a-45d4-9652-367627383829"
      },
      "execution_count": null,
      "outputs": [
        {
          "output_type": "execute_result",
          "data": {
            "text/html": [
              "\n",
              "  <div id=\"df-a24b61c0-7928-49e3-ab62-e65f72121acc\">\n",
              "    <div class=\"colab-df-container\">\n",
              "      <div>\n",
              "<style scoped>\n",
              "    .dataframe tbody tr th:only-of-type {\n",
              "        vertical-align: middle;\n",
              "    }\n",
              "\n",
              "    .dataframe tbody tr th {\n",
              "        vertical-align: top;\n",
              "    }\n",
              "\n",
              "    .dataframe thead th {\n",
              "        text-align: right;\n",
              "    }\n",
              "</style>\n",
              "<table border=\"1\" class=\"dataframe\">\n",
              "  <thead>\n",
              "    <tr style=\"text-align: right;\">\n",
              "      <th></th>\n",
              "      <th>msno</th>\n",
              "      <th>song_id</th>\n",
              "      <th>source_system_tab</th>\n",
              "      <th>source_screen_name</th>\n",
              "      <th>source_type</th>\n",
              "      <th>song_length</th>\n",
              "      <th>genre_ids</th>\n",
              "      <th>artist_name</th>\n",
              "      <th>composer</th>\n",
              "      <th>language</th>\n",
              "      <th>city</th>\n",
              "      <th>bd</th>\n",
              "      <th>gender</th>\n",
              "      <th>registered_via</th>\n",
              "      <th>registration_init_time</th>\n",
              "      <th>registration_init_time_year</th>\n",
              "      <th>registration_init_time_month</th>\n",
              "      <th>registration_init_time_day</th>\n",
              "      <th>expiration_date_year</th>\n",
              "      <th>expiration_date_month</th>\n",
              "      <th>expiration_date_day</th>\n",
              "    </tr>\n",
              "  </thead>\n",
              "  <tbody>\n",
              "    <tr>\n",
              "      <th>0</th>\n",
              "      <td>567</td>\n",
              "      <td>533</td>\n",
              "      <td>3</td>\n",
              "      <td>7</td>\n",
              "      <td>3</td>\n",
              "      <td>251040</td>\n",
              "      <td>56</td>\n",
              "      <td>1188</td>\n",
              "      <td>1698</td>\n",
              "      <td>3.0</td>\n",
              "      <td>3</td>\n",
              "      <td>18</td>\n",
              "      <td>1</td>\n",
              "      <td>9</td>\n",
              "      <td>1855</td>\n",
              "      <td>2015</td>\n",
              "      <td>3</td>\n",
              "      <td>29</td>\n",
              "      <td>2017</td>\n",
              "      <td>9</td>\n",
              "      <td>11</td>\n",
              "    </tr>\n",
              "    <tr>\n",
              "      <th>1</th>\n",
              "      <td>851</td>\n",
              "      <td>4006</td>\n",
              "      <td>3</td>\n",
              "      <td>7</td>\n",
              "      <td>4</td>\n",
              "      <td>205635</td>\n",
              "      <td>58</td>\n",
              "      <td>454</td>\n",
              "      <td>712</td>\n",
              "      <td>52.0</td>\n",
              "      <td>13</td>\n",
              "      <td>28</td>\n",
              "      <td>0</td>\n",
              "      <td>9</td>\n",
              "      <td>601</td>\n",
              "      <td>2010</td>\n",
              "      <td>6</td>\n",
              "      <td>8</td>\n",
              "      <td>2017</td>\n",
              "      <td>9</td>\n",
              "      <td>14</td>\n",
              "    </tr>\n",
              "    <tr>\n",
              "      <th>2</th>\n",
              "      <td>1832</td>\n",
              "      <td>1945</td>\n",
              "      <td>5</td>\n",
              "      <td>12</td>\n",
              "      <td>6</td>\n",
              "      <td>225094</td>\n",
              "      <td>58</td>\n",
              "      <td>1402</td>\n",
              "      <td>1509</td>\n",
              "      <td>3.0</td>\n",
              "      <td>1</td>\n",
              "      <td>0</td>\n",
              "      <td>2</td>\n",
              "      <td>7</td>\n",
              "      <td>1994</td>\n",
              "      <td>2015</td>\n",
              "      <td>9</td>\n",
              "      <td>12</td>\n",
              "      <td>2017</td>\n",
              "      <td>9</td>\n",
              "      <td>11</td>\n",
              "    </tr>\n",
              "    <tr>\n",
              "      <th>3</th>\n",
              "      <td>4627</td>\n",
              "      <td>3298</td>\n",
              "      <td>3</td>\n",
              "      <td>7</td>\n",
              "      <td>3</td>\n",
              "      <td>65933</td>\n",
              "      <td>31</td>\n",
              "      <td>113</td>\n",
              "      <td>980</td>\n",
              "      <td>17.0</td>\n",
              "      <td>1</td>\n",
              "      <td>0</td>\n",
              "      <td>2</td>\n",
              "      <td>7</td>\n",
              "      <td>1023</td>\n",
              "      <td>2012</td>\n",
              "      <td>1</td>\n",
              "      <td>10</td>\n",
              "      <td>2017</td>\n",
              "      <td>10</td>\n",
              "      <td>3</td>\n",
              "    </tr>\n",
              "    <tr>\n",
              "      <th>4</th>\n",
              "      <td>2857</td>\n",
              "      <td>5</td>\n",
              "      <td>1</td>\n",
              "      <td>10</td>\n",
              "      <td>5</td>\n",
              "      <td>224722</td>\n",
              "      <td>58</td>\n",
              "      <td>93</td>\n",
              "      <td>1923</td>\n",
              "      <td>17.0</td>\n",
              "      <td>1</td>\n",
              "      <td>0</td>\n",
              "      <td>2</td>\n",
              "      <td>4</td>\n",
              "      <td>2327</td>\n",
              "      <td>2016</td>\n",
              "      <td>10</td>\n",
              "      <td>30</td>\n",
              "      <td>2017</td>\n",
              "      <td>8</td>\n",
              "      <td>28</td>\n",
              "    </tr>\n",
              "  </tbody>\n",
              "</table>\n",
              "</div>\n",
              "      <button class=\"colab-df-convert\" onclick=\"convertToInteractive('df-a24b61c0-7928-49e3-ab62-e65f72121acc')\"\n",
              "              title=\"Convert this dataframe to an interactive table.\"\n",
              "              style=\"display:none;\">\n",
              "        \n",
              "  <svg xmlns=\"http://www.w3.org/2000/svg\" height=\"24px\"viewBox=\"0 0 24 24\"\n",
              "       width=\"24px\">\n",
              "    <path d=\"M0 0h24v24H0V0z\" fill=\"none\"/>\n",
              "    <path d=\"M18.56 5.44l.94 2.06.94-2.06 2.06-.94-2.06-.94-.94-2.06-.94 2.06-2.06.94zm-11 1L8.5 8.5l.94-2.06 2.06-.94-2.06-.94L8.5 2.5l-.94 2.06-2.06.94zm10 10l.94 2.06.94-2.06 2.06-.94-2.06-.94-.94-2.06-.94 2.06-2.06.94z\"/><path d=\"M17.41 7.96l-1.37-1.37c-.4-.4-.92-.59-1.43-.59-.52 0-1.04.2-1.43.59L10.3 9.45l-7.72 7.72c-.78.78-.78 2.05 0 2.83L4 21.41c.39.39.9.59 1.41.59.51 0 1.02-.2 1.41-.59l7.78-7.78 2.81-2.81c.8-.78.8-2.07 0-2.86zM5.41 20L4 18.59l7.72-7.72 1.47 1.35L5.41 20z\"/>\n",
              "  </svg>\n",
              "      </button>\n",
              "      \n",
              "  <style>\n",
              "    .colab-df-container {\n",
              "      display:flex;\n",
              "      flex-wrap:wrap;\n",
              "      gap: 12px;\n",
              "    }\n",
              "\n",
              "    .colab-df-convert {\n",
              "      background-color: #E8F0FE;\n",
              "      border: none;\n",
              "      border-radius: 50%;\n",
              "      cursor: pointer;\n",
              "      display: none;\n",
              "      fill: #1967D2;\n",
              "      height: 32px;\n",
              "      padding: 0 0 0 0;\n",
              "      width: 32px;\n",
              "    }\n",
              "\n",
              "    .colab-df-convert:hover {\n",
              "      background-color: #E2EBFA;\n",
              "      box-shadow: 0px 1px 2px rgba(60, 64, 67, 0.3), 0px 1px 3px 1px rgba(60, 64, 67, 0.15);\n",
              "      fill: #174EA6;\n",
              "    }\n",
              "\n",
              "    [theme=dark] .colab-df-convert {\n",
              "      background-color: #3B4455;\n",
              "      fill: #D2E3FC;\n",
              "    }\n",
              "\n",
              "    [theme=dark] .colab-df-convert:hover {\n",
              "      background-color: #434B5C;\n",
              "      box-shadow: 0px 1px 3px 1px rgba(0, 0, 0, 0.15);\n",
              "      filter: drop-shadow(0px 1px 2px rgba(0, 0, 0, 0.3));\n",
              "      fill: #FFFFFF;\n",
              "    }\n",
              "  </style>\n",
              "\n",
              "      <script>\n",
              "        const buttonEl =\n",
              "          document.querySelector('#df-a24b61c0-7928-49e3-ab62-e65f72121acc button.colab-df-convert');\n",
              "        buttonEl.style.display =\n",
              "          google.colab.kernel.accessAllowed ? 'block' : 'none';\n",
              "\n",
              "        async function convertToInteractive(key) {\n",
              "          const element = document.querySelector('#df-a24b61c0-7928-49e3-ab62-e65f72121acc');\n",
              "          const dataTable =\n",
              "            await google.colab.kernel.invokeFunction('convertToInteractive',\n",
              "                                                     [key], {});\n",
              "          if (!dataTable) return;\n",
              "\n",
              "          const docLinkHtml = 'Like what you see? Visit the ' +\n",
              "            '<a target=\"_blank\" href=https://colab.research.google.com/notebooks/data_table.ipynb>data table notebook</a>'\n",
              "            + ' to learn more about interactive tables.';\n",
              "          element.innerHTML = '';\n",
              "          dataTable['output_type'] = 'display_data';\n",
              "          await google.colab.output.renderOutput(dataTable, element);\n",
              "          const docLink = document.createElement('div');\n",
              "          docLink.innerHTML = docLinkHtml;\n",
              "          element.appendChild(docLink);\n",
              "        }\n",
              "      </script>\n",
              "    </div>\n",
              "  </div>\n",
              "  "
            ],
            "text/plain": [
              "   msno  song_id  ...  expiration_date_month  expiration_date_day\n",
              "0   567      533  ...                      9                   11\n",
              "1   851     4006  ...                      9                   14\n",
              "2  1832     1945  ...                      9                   11\n",
              "3  4627     3298  ...                     10                    3\n",
              "4  2857        5  ...                      8                   28\n",
              "\n",
              "[5 rows x 21 columns]"
            ]
          },
          "metadata": {},
          "execution_count": 32
        }
      ]
    },
    {
      "cell_type": "markdown",
      "source": [
        "## Model: RandomForest classifier"
      ],
      "metadata": {
        "id": "Qyf3Qnp1OUzN"
      }
    },
    {
      "cell_type": "code",
      "source": [
        "model = RandomForestClassifier(n_estimators=250, max_depth=25)\n",
        "model.fit(X, y)"
      ],
      "metadata": {
        "id": "msXYow3ZR_ex",
        "colab": {
          "base_uri": "https://localhost:8080/"
        },
        "outputId": "16aab50f-8c25-4ae4-d869-112db93a1b02"
      },
      "execution_count": null,
      "outputs": [
        {
          "output_type": "execute_result",
          "data": {
            "text/plain": [
              "RandomForestClassifier(max_depth=25, n_estimators=250)"
            ]
          },
          "metadata": {},
          "execution_count": 33
        }
      ]
    },
    {
      "cell_type": "markdown",
      "source": [
        "### Examine the Default Random Forest to Determine Parameters"
      ],
      "metadata": {
        "id": "6xTl7yDEurHt"
      }
    },
    {
      "cell_type": "code",
      "source": [
        "from pprint import pprint\n",
        "print('Parameters currently in use:\\n')\n",
        "pprint(model.get_params())"
      ],
      "metadata": {
        "id": "evmwFb0-ubNc",
        "colab": {
          "base_uri": "https://localhost:8080/"
        },
        "outputId": "ac4f8778-e254-4685-dd6c-39d56ae70d52"
      },
      "execution_count": null,
      "outputs": [
        {
          "output_type": "stream",
          "name": "stdout",
          "text": [
            "Parameters currently in use:\n",
            "\n",
            "{'bootstrap': True,\n",
            " 'ccp_alpha': 0.0,\n",
            " 'class_weight': None,\n",
            " 'criterion': 'gini',\n",
            " 'max_depth': 25,\n",
            " 'max_features': 'auto',\n",
            " 'max_leaf_nodes': None,\n",
            " 'max_samples': None,\n",
            " 'min_impurity_decrease': 0.0,\n",
            " 'min_samples_leaf': 1,\n",
            " 'min_samples_split': 2,\n",
            " 'min_weight_fraction_leaf': 0.0,\n",
            " 'n_estimators': 250,\n",
            " 'n_jobs': None,\n",
            " 'oob_score': False,\n",
            " 'random_state': None,\n",
            " 'verbose': 0,\n",
            " 'warm_start': False}\n"
          ]
        }
      ]
    },
    {
      "cell_type": "markdown",
      "source": [
        "### Feature Importance"
      ],
      "metadata": {
        "id": "Cjn4GS4hwmcj"
      }
    },
    {
      "cell_type": "code",
      "source": [
        "df_plot = pd.DataFrame({'features': X.columns,\n",
        "                        'importances': model.feature_importances_})\n",
        "df_plot = df_plot.sort_values('importances', ascending=False)\n",
        "plt.figure(figsize=[11,5])\n",
        "sns.barplot(x = df_plot.importances, y = df_plot.features)\n",
        "plt.title('Importances of Features Plot')\n",
        "plt.show()"
      ],
      "metadata": {
        "id": "cATNZSQmSYGS",
        "colab": {
          "base_uri": "https://localhost:8080/",
          "height": 354
        },
        "outputId": "7b8de1c0-de37-40c6-fe79-266bd2c86597"
      },
      "execution_count": null,
      "outputs": [
        {
          "output_type": "display_data",
          "data": {
            "image/png": "[encoded data removed]",
            "text/plain": [
              "<Figure size 792x360 with 1 Axes>"
            ]
          },
          "metadata": {
            "needs_background": "light"
          }
        }
      ]
    },
    {
      "cell_type": "code",
      "source": [
        "# Drop columns with importances < 0.04\n",
        "X = X.drop(df_plot.features[df_plot.importances < 0.04].tolist(), 1)"
      ],
      "metadata": {
        "id": "tgLVstYhTH4N"
      },
      "execution_count": null,
      "outputs": []
    },
    {
      "cell_type": "code",
      "source": [
        "X.columns"
      ],
      "metadata": {
        "id": "xRusohrdTtYL",
        "colab": {
          "base_uri": "https://localhost:8080/"
        },
        "outputId": "6be67cab-7385-482b-e3c5-6a3c09a6fb88"
      },
      "execution_count": null,
      "outputs": [
        {
          "output_type": "execute_result",
          "data": {
            "text/plain": [
              "Index(['msno', 'song_id', 'source_screen_name', 'source_type', 'song_length',\n",
              "       'artist_name', 'composer', 'bd', 'registration_init_time',\n",
              "       'registration_init_time_month', 'registration_init_time_day',\n",
              "       'expiration_date_day'],\n",
              "      dtype='object')"
            ]
          },
          "metadata": {},
          "execution_count": 37
        }
      ]
    },
    {
      "cell_type": "code",
      "source": [
        "train_data, test_data, train_labels, test_labels = train_test_split(X, y, test_size = 0.20)"
      ],
      "metadata": {
        "id": "WSj2yiRrxYZo"
      },
      "execution_count": null,
      "outputs": []
    },
    {
      "cell_type": "markdown",
      "source": [
        "### Random Search with Cross Validation"
      ],
      "metadata": {
        "id": "CEWyyF3Pwu1t"
      }
    },
    {
      "cell_type": "code",
      "source": [
        "# Number of trees in random forest\n",
        "n_estimators = [int(x) for x in np.linspace(start = 200, stop = 2000, num = 10)]\n",
        "# Number of features to consider at every split\n",
        "max_features = ['auto', 'sqrt']\n",
        "# Maximum number of levels in tree\n",
        "max_depth = [int(x) for x in np.linspace(10, 110, num = 11)]\n",
        "max_depth.append(None)\n",
        "# Minimum number of samples required to split a node\n",
        "min_samples_split = [2, 5, 10]\n",
        "# Minimum number of samples required at each leaf node\n",
        "min_samples_leaf = [1, 2, 4]\n",
        "# Method of selecting samples for training each tree\n",
        "bootstrap = [True, False]\n",
        "\n",
        "# Create the random grid\n",
        "random_grid = {'n_estimators': n_estimators,\n",
        "               'max_features': max_features,\n",
        "               'max_depth': max_depth,\n",
        "               'min_samples_split': min_samples_split,\n",
        "               'min_samples_leaf': min_samples_leaf,\n",
        "               'bootstrap': bootstrap}\n",
        "\n",
        "pprint(random_grid)"
      ],
      "metadata": {
        "id": "jgFazkdCwuar",
        "colab": {
          "base_uri": "https://localhost:8080/"
        },
        "outputId": "1b64d978-df20-4fe1-b695-7b4c7efb3d65"
      },
      "execution_count": null,
      "outputs": [
        {
          "output_type": "stream",
          "name": "stdout",
          "text": [
            "{'bootstrap': [True, False],\n",
            " 'max_depth': [10, 20, 30, 40, 50, 60, 70, 80, 90, 100, 110, None],\n",
            " 'max_features': ['auto', 'sqrt'],\n",
            " 'min_samples_leaf': [1, 2, 4],\n",
            " 'min_samples_split': [2, 5, 10],\n",
            " 'n_estimators': [200, 400, 600, 800, 1000, 1200, 1400, 1600, 1800, 2000]}\n"
          ]
        }
      ]
    },
    {
      "cell_type": "markdown",
      "source": [
        "## Hyperparameter tuning"
      ],
      "metadata": {
        "id": "U1W_D2fJI-Gj"
      }
    },
    {
      "cell_type": "code",
      "source": [
        "# Use the random grid to search for best hyperparameters\n",
        "# First create the base model to tune\n",
        "rf = RandomForestClassifier(random_state = 42)\n",
        "# Random search of parameters, using 3 fold cross validation, \n",
        "# search across 100 different combinations, and use all available cores\n",
        "rf_random = RandomizedSearchCV(estimator=rf, param_distributions=random_grid,\n",
        "                              n_iter = 100, scoring='neg_mean_absolute_error', \n",
        "                              cv = 3, verbose=2, random_state=42, n_jobs=-1,\n",
        "                              return_train_score=True)\n",
        "\n",
        "# Fit the random search model\n",
        "rf_random.fit(train_data, train_labels)"
      ],
      "metadata": {
        "id": "Z2PBtihQxDnL",
        "colab": {
          "base_uri": "https://localhost:8080/"
        },
        "outputId": "38f3f4ab-cbf5-450c-8a12-eef44d5cb407"
      },
      "execution_count": null,
      "outputs": [
        {
          "output_type": "stream",
          "name": "stdout",
          "text": [
            "Fitting 3 folds for each of 100 candidates, totalling 300 fits\n"
          ]
        }
      ]
    },
    {
      "cell_type": "markdown",
      "source": [
        "### Best Parameters"
      ],
      "metadata": {
        "id": "PUtQzi02xntu"
      }
    },
    {
      "cell_type": "code",
      "source": [
        "rf_random.best_params_"
      ],
      "metadata": {
        "id": "QkfITUbPxsLO",
        "colab": {
          "base_uri": "https://localhost:8080/"
        },
        "outputId": "7e542a68-c714-46f4-cd3e-1f73db323d71"
      },
      "execution_count": null,
      "outputs": [
        {
          "output_type": "execute_result",
          "data": {
            "text/plain": [
              "{'bootstrap': True,\n",
              " 'max_depth': 100,\n",
              " 'max_features': 'auto',\n",
              " 'min_samples_leaf': 4,\n",
              " 'min_samples_split': 5,\n",
              " 'n_estimators': 1000}"
            ]
          },
          "metadata": {},
          "execution_count": 41
        }
      ]
    },
    {
      "cell_type": "markdown",
      "source": [
        "## Evaluation Function"
      ],
      "metadata": {
        "id": "3IbdBpDJyc6k"
      }
    },
    {
      "cell_type": "markdown",
      "source": [
        "### Default Model"
      ],
      "metadata": {
        "id": "22Oj_hkFyx4u"
      }
    },
    {
      "cell_type": "code",
      "source": [
        "base_model = RandomForestClassifier(n_estimators=250, max_depth=25)\n",
        "base_model.fit(train_data, train_labels)\n",
        "predict_labels = base_model.predict(test_data)\n",
        "print(classification_report(test_labels, predict_labels))"
      ],
      "metadata": {
        "id": "wLj67CyIyu3i",
        "colab": {
          "base_uri": "https://localhost:8080/"
        },
        "outputId": "220b8fa8-d30c-4735-b5ee-d2fc69281e94"
      },
      "execution_count": null,
      "outputs": [
        {
          "output_type": "stream",
          "name": "stdout",
          "text": [
            "              precision    recall  f1-score   support\n",
            "\n",
            "         0.0       0.56      0.40      0.46       464\n",
            "         1.0       0.74      0.84      0.79       944\n",
            "\n",
            "    accuracy                           0.70      1408\n",
            "   macro avg       0.65      0.62      0.63      1408\n",
            "weighted avg       0.68      0.70      0.68      1408\n",
            "\n"
          ]
        }
      ]
    },
    {
      "cell_type": "markdown",
      "source": [
        "### Best RandomSearch Model"
      ],
      "metadata": {
        "id": "07xnqIS-zFQk"
      }
    },
    {
      "cell_type": "code",
      "source": [
        "best_random_model = rf_random.best_estimator_\n",
        "predict_labels = best_random_model.predict(test_data)\n",
        "print(classification_report(test_labels, predict_labels))"
      ],
      "metadata": {
        "id": "EcxUCcO3zFqL",
        "colab": {
          "base_uri": "https://localhost:8080/"
        },
        "outputId": "651f47ab-217d-4d1f-bea5-d15cebbe86f8"
      },
      "execution_count": null,
      "outputs": [
        {
          "output_type": "stream",
          "name": "stdout",
          "text": [
            "              precision    recall  f1-score   support\n",
            "\n",
            "         0.0       0.55      0.41      0.47       464\n",
            "         1.0       0.74      0.84      0.79       944\n",
            "\n",
            "    accuracy                           0.70      1408\n",
            "   macro avg       0.65      0.62      0.63      1408\n",
            "weighted avg       0.68      0.70      0.68      1408\n",
            "\n"
          ]
        }
      ]
    },
    {
      "cell_type": "markdown",
      "source": [
        "## XGBoost"
      ],
      "metadata": {
        "id": "MAMYWe5vUDDD"
      }
    },
    {
      "cell_type": "code",
      "source": [
        "train_data, test_data, train_labels, test_labels = train_test_split(X, y, test_size = 0.20)"
      ],
      "metadata": {
        "id": "ksxBim4MT-_e"
      },
      "execution_count": null,
      "outputs": []
    },
    {
      "cell_type": "markdown",
      "source": [
        "## Hyperparameter Tuning"
      ],
      "metadata": {
        "id": "oGwdIKBYIaeQ"
      }
    },
    {
      "cell_type": "code",
      "source": [
        "# Create model\n",
        "\n",
        "model = xgb.XGBClassifier()\n",
        "\n",
        "# Create parameters grid\n",
        "\n",
        "parameters_grid = { 'learning_rate' : [0.1, 0.2, 0.5], 'max_depth' : [5, 10, 15], 'n_estimators' : [150, 250, 300], 'min_child_weight' : [3, 5, 10] }\n",
        "\n",
        "# Strategy of cross validation\n",
        "\n",
        "cv = StratifiedShuffleSplit(n_splits= 3, test_size = 0.2)\n",
        "\n",
        "# Create Randomized search Strategy\n",
        "\n",
        "grid_cv = RandomizedSearchCV(model, parameters_grid, scoring = 'accuracy', cv = cv)\n",
        "\n",
        "# Fit model by Grid\n",
        "\n",
        "grid_cv.fit(train_data, train_labels)\n",
        "\n",
        "# Model with the best estimator\n",
        "print(grid_cv.best_estimator_)"
      ],
      "metadata": {
        "id": "lQL8c469UX1X",
        "colab": {
          "base_uri": "https://localhost:8080/"
        },
        "outputId": "5fb6c70f-b847-4533-e891-355681260be2"
      },
      "execution_count": null,
      "outputs": [
        {
          "output_type": "stream",
          "name": "stdout",
          "text": [
            "XGBClassifier(max_depth=5, min_child_weight=5, n_estimators=300)\n"
          ]
        }
      ]
    },
    {
      "cell_type": "markdown",
      "source": [
        "#### Best Parameters"
      ],
      "metadata": {
        "id": "-f2sOx_xITVY"
      }
    },
    {
      "cell_type": "code",
      "source": [
        "grid_cv.best_params_"
      ],
      "metadata": {
        "colab": {
          "base_uri": "https://localhost:8080/"
        },
        "id": "QSUQRyDut1_X",
        "outputId": "0f939748-0085-409a-9941-212d41bf66e3"
      },
      "execution_count": null,
      "outputs": [
        {
          "output_type": "execute_result",
          "data": {
            "text/plain": [
              "{'learning_rate': 0.1,\n",
              " 'max_depth': 5,\n",
              " 'min_child_weight': 5,\n",
              " 'n_estimators': 300}"
            ]
          },
          "metadata": {},
          "execution_count": 46
        }
      ]
    },
    {
      "cell_type": "markdown",
      "source": [
        "## Best XGBoost Model"
      ],
      "metadata": {
        "id": "uXbb8p0OIwQ-"
      }
    },
    {
      "cell_type": "code",
      "source": [
        "model = xgb.XGBClassifier(learning_rate=0.1, max_depth=5, min_child_weight=5, n_estimators=300)\n",
        "model.fit(train_data, train_labels)"
      ],
      "metadata": {
        "id": "7l_0Z4OnXFBG",
        "colab": {
          "base_uri": "https://localhost:8080/"
        },
        "outputId": "4230bb3c-54bd-4f68-c8bb-dd7675e2fa0b"
      },
      "execution_count": null,
      "outputs": [
        {
          "output_type": "execute_result",
          "data": {
            "text/plain": [
              "XGBClassifier(max_depth=5, min_child_weight=5, n_estimators=300)"
            ]
          },
          "metadata": {},
          "execution_count": 47
        }
      ]
    },
    {
      "cell_type": "markdown",
      "source": [
        "## Evaluation"
      ],
      "metadata": {
        "id": "R6-gqp0qI1rN"
      }
    },
    {
      "cell_type": "code",
      "source": [
        "# Predicting\n",
        "predict_labels = model.predict(test_data)\n",
        "print(classification_report(test_labels, predict_labels))"
      ],
      "metadata": {
        "id": "bvHhUPGXXy6U",
        "colab": {
          "base_uri": "https://localhost:8080/"
        },
        "outputId": "5877343d-7b01-4c9b-e244-c513a44c2a80"
      },
      "execution_count": null,
      "outputs": [
        {
          "output_type": "stream",
          "name": "stdout",
          "text": [
            "              precision    recall  f1-score   support\n",
            "\n",
            "         0.0       0.57      0.37      0.45       474\n",
            "         1.0       0.73      0.86      0.79       934\n",
            "\n",
            "    accuracy                           0.70      1408\n",
            "   macro avg       0.65      0.61      0.62      1408\n",
            "weighted avg       0.68      0.70      0.67      1408\n",
            "\n"
          ]
        }
      ]
    }
  ]
}