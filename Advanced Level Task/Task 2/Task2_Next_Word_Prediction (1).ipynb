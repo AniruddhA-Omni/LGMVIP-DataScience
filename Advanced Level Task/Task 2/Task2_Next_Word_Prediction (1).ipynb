{
  "nbformat": 4,
  "nbformat_minor": 0,
  "metadata": {
    "colab": {
      "name": "Task2_Next_Word_Prediction.ipynb",
      "provenance": [],
      "collapsed_sections": []
    },
    "kernelspec": {
      "name": "python3",
      "display_name": "Python 3"
    },
    "language_info": {
      "name": "python"
    },
    "accelerator": "GPU"
  },
  "cells": [
    {
      "cell_type": "markdown",
      "source": [
        "# **Task 2:**\n",
        "## **Author:** Aniruddha Jana\n",
        "## **Task description:**\n",
        "Using Tensorflow and Keras library train a RNN, to predict the next word."
      ],
      "metadata": {
        "id": "VnIfCxHwPlCQ"
      }
    },
    {
      "cell_type": "markdown",
      "source": [
        "# Importing modules"
      ],
      "metadata": {
        "id": "N7FAeSbqPyJk"
      }
    },
    {
      "cell_type": "code",
      "execution_count": 1,
      "metadata": {
        "id": "LoceuJkJPRdk"
      },
      "outputs": [],
      "source": [
        "import numpy as np\n",
        "from nltk.tokenize import RegexpTokenizer\n",
        "from keras.models import Sequential, load_model\n",
        "from keras.layers import LSTM\n",
        "from keras.layers.core import Dense, Activation\n",
        "from tensorflow.keras.optimizers import RMSprop\n",
        "import matplotlib.pyplot as plt\n",
        "import heapq\n",
        "import warnings\n",
        "warnings.filterwarnings('ignore')"
      ]
    },
    {
      "cell_type": "markdown",
      "source": [
        "# Loading Data"
      ],
      "metadata": {
        "id": "UB_REGevQ4FJ"
      }
    },
    {
      "cell_type": "code",
      "source": [
        "text_file = open('1661-0.txt',mode = 'r', encoding='utf-8-sig')\n",
        "text = text_file.read().lower()"
      ],
      "metadata": {
        "id": "hHGVWmVMQ69Q"
      },
      "execution_count": 2,
      "outputs": []
    },
    {
      "cell_type": "markdown",
      "source": [
        "## Tokenization"
      ],
      "metadata": {
        "id": "MYbyre08RVPu"
      }
    },
    {
      "cell_type": "code",
      "source": [
        "tokenizer = RegexpTokenizer(r'\\w+')\n",
        "words = tokenizer.tokenize(text)"
      ],
      "metadata": {
        "id": "VxXSHjoLRYrt"
      },
      "execution_count": 3,
      "outputs": []
    },
    {
      "cell_type": "markdown",
      "source": [
        "### List of sorted unique words"
      ],
      "metadata": {
        "id": "-VctAOCBoq4l"
      }
    },
    {
      "cell_type": "code",
      "source": [
        "unique_words = np.unique(words)\n",
        "unique_word_index = dict((c, i) for i, c in enumerate(unique_words))"
      ],
      "metadata": {
        "id": "P8gMP7HKS1lh"
      },
      "execution_count": 4,
      "outputs": []
    },
    {
      "cell_type": "markdown",
      "source": [
        "## Feature Engineering"
      ],
      "metadata": {
        "id": "J6fj1hinRpsA"
      }
    },
    {
      "cell_type": "code",
      "source": [
        "WORD_LENGTH = 5\n",
        "prev_words = []\n",
        "next_words = []\n",
        "for i in range(len(words) - WORD_LENGTH):\n",
        "    prev_words.append(words[i:i + WORD_LENGTH])\n",
        "    next_words.append(words[i + WORD_LENGTH])\n",
        "print(prev_words[0])\n",
        "print(next_words[0])"
      ],
      "metadata": {
        "colab": {
          "base_uri": "https://localhost:8080/"
        },
        "id": "3k3wDFLJRtuE",
        "outputId": "25e50faf-b5f3-46ec-cdf5-49f5f47b31a1"
      },
      "execution_count": 5,
      "outputs": [
        {
          "output_type": "stream",
          "name": "stdout",
          "text": [
            "['project', 'gutenberg', 's', 'the', 'adventures']\n",
            "of\n"
          ]
        }
      ]
    },
    {
      "cell_type": "code",
      "source": [
        "X = np.zeros((len(prev_words), WORD_LENGTH, len(unique_words)), dtype=bool)\n",
        "Y = np.zeros((len(next_words), len(unique_words)), dtype=bool)\n",
        "for i, each_words in enumerate(prev_words):\n",
        "    for j, each_word in enumerate(each_words):\n",
        "        X[i, j, unique_word_index[each_word]] = 1\n",
        "    Y[i, unique_word_index[next_words[i]]] = 1"
      ],
      "metadata": {
        "id": "8IwhfFVhSIms"
      },
      "execution_count": 6,
      "outputs": []
    },
    {
      "cell_type": "markdown",
      "source": [
        "# Building RNN"
      ],
      "metadata": {
        "id": "POLd0c3VS_RZ"
      }
    },
    {
      "cell_type": "code",
      "source": [
        "model = Sequential()\n",
        "model.add(LSTM(128, input_shape=(WORD_LENGTH, len(unique_words))))\n",
        "model.add(Dense(len(unique_words)))\n",
        "model.add(Activation('softmax'))"
      ],
      "metadata": {
        "id": "uYFukJoTTCLT"
      },
      "execution_count": 7,
      "outputs": []
    },
    {
      "cell_type": "markdown",
      "source": [
        "## Training Model"
      ],
      "metadata": {
        "id": "cQGX2Cf9TLVc"
      }
    },
    {
      "cell_type": "code",
      "source": [
        "optimizer = RMSprop(lr=0.01)\n",
        "model.compile(loss='categorical_crossentropy', optimizer=optimizer, metrics=['accuracy'])"
      ],
      "metadata": {
        "id": "p1cEAHZzTLEw"
      },
      "execution_count": 8,
      "outputs": []
    },
    {
      "cell_type": "code",
      "source": [
        "history = model.fit(X, Y, validation_split=0.05, batch_size=128, epochs=2, shuffle=True).history"
      ],
      "metadata": {
        "colab": {
          "base_uri": "https://localhost:8080/"
        },
        "id": "6ZBdqbiPTUee",
        "outputId": "3312a544-45d7-4367-c691-0e819bbef842"
      },
      "execution_count": 9,
      "outputs": [
        {
          "output_type": "stream",
          "name": "stdout",
          "text": [
            "Epoch 1/2\n",
            "811/811 [==============================] - 30s 31ms/step - loss: 6.0000 - accuracy: 0.1072 - val_loss: 7.0583 - val_accuracy: 0.1036\n",
            "Epoch 2/2\n",
            "811/811 [==============================] - 24s 29ms/step - loss: 5.7825 - accuracy: 0.1479 - val_loss: 7.9466 - val_accuracy: 0.1060\n"
          ]
        }
      ]
    },
    {
      "cell_type": "markdown",
      "source": [
        "## Evaluating Model"
      ],
      "metadata": {
        "id": "tp43ttEiUiSH"
      }
    },
    {
      "cell_type": "code",
      "source": [
        "plt.plot(history['accuracy'])\n",
        "plt.plot(history['val_accuracy'])\n",
        "plt.title('model accuracy')\n",
        "plt.ylabel('accuracy')\n",
        "plt.xlabel('epoch')\n",
        "plt.legend(['train', 'test'], loc='best')\n",
        "plt.grid(True)\n",
        "plt.show()"
      ],
      "metadata": {
        "colab": {
          "base_uri": "https://localhost:8080/",
          "height": 295
        },
        "id": "F6-x2xj5Uk21",
        "outputId": "d0e2030f-b692-4963-ef98-0ccbb5f0e714"
      },
      "execution_count": 10,
      "outputs": [
        {
          "output_type": "display_data",
          "data": {
            "image/png": "[encoded data removed]",
            "text/plain": [
              "<Figure size 432x288 with 1 Axes>"
            ]
          },
          "metadata": {
            "needs_background": "light"
          }
        }
      ]
    },
    {
      "cell_type": "code",
      "source": [
        "plt.plot(history['loss'])\n",
        "plt.plot(history['val_loss'])\n",
        "plt.title('model loss')\n",
        "plt.ylabel('loss')\n",
        "plt.xlabel('epoch')\n",
        "plt.legend(['train', 'test'], loc='best')\n",
        "plt.grid(True)\n",
        "plt.show()"
      ],
      "metadata": {
        "colab": {
          "base_uri": "https://localhost:8080/",
          "height": 295
        },
        "id": "YS1VZfNOVVdw",
        "outputId": "0909e957-02d4-4cd6-9d87-e0f058b61d3a"
      },
      "execution_count": 11,
      "outputs": [
        {
          "output_type": "display_data",
          "data": {
            "image/png": "[encoded data removed]",
            "text/plain": [
              "<Figure size 432x288 with 1 Axes>"
            ]
          },
          "metadata": {
            "needs_background": "light"
          }
        }
      ]
    },
    {
      "cell_type": "markdown",
      "source": [
        "## Saving Model"
      ],
      "metadata": {
        "id": "m_j1oi66WiKz"
      }
    },
    {
      "cell_type": "code",
      "source": [
        "import pickle\n",
        "model.save('Next_word_model.h5')\n",
        "pickle.dump(history, open(\"history.p\", \"wb\"))"
      ],
      "metadata": {
        "id": "YXmNG8J0WlJD"
      },
      "execution_count": 12,
      "outputs": []
    },
    {
      "cell_type": "markdown",
      "source": [
        "## Loading Model"
      ],
      "metadata": {
        "id": "jurFbBz3W9Hw"
      }
    },
    {
      "cell_type": "code",
      "source": [
        "model = load_model('Next_word_model.h5')\n",
        "history = pickle.load(open(\"history.p\", \"rb\"))"
      ],
      "metadata": {
        "id": "6h_FuAXbW_Th"
      },
      "execution_count": 13,
      "outputs": []
    },
    {
      "cell_type": "markdown",
      "source": [
        "# Testing"
      ],
      "metadata": {
        "id": "P-ZVGJbEXLfD"
      }
    },
    {
      "cell_type": "code",
      "source": [
        "def preprocess_input(text):\n",
        "    if text == \"\":\n",
        "        return (\"0\")\n",
        "    x = np.zeros((1, WORD_LENGTH, len(unique_words)))\n",
        "    for t, word in enumerate(text.split()):\n",
        "        print(word)\n",
        "        x[0, t, unique_word_index[word]] = 1\n",
        "    return x"
      ],
      "metadata": {
        "id": "MOYXnVYBXNPw"
      },
      "execution_count": 14,
      "outputs": []
    },
    {
      "cell_type": "code",
      "source": [
        "def sample(preds, top_n=3):\n",
        "    preds = np.asarray(preds).astype('float64')\n",
        "    preds = np.log(preds)\n",
        "    exp_preds = np.exp(preds)\n",
        "    preds = exp_preds / np.sum(exp_preds)\n",
        "\n",
        "    return heapq.nlargest(top_n, range(len(preds)), preds.take)"
      ],
      "metadata": {
        "id": "BAqPHyDvXVrV"
      },
      "execution_count": 15,
      "outputs": []
    },
    {
      "cell_type": "code",
      "source": [
        "def predict_completions(textx, n=3):\n",
        "    preds = model.predict(textx, verbose=0)[0]\n",
        "    next_indices = sample(preds, n)\n",
        "    return [unique_words[idx] for idx in next_indices]"
      ],
      "metadata": {
        "id": "jYgyhjT2Xliv"
      },
      "execution_count": 16,
      "outputs": []
    },
    {
      "cell_type": "code",
      "source": [
        "quotes = \"It is hard enough to remember my opinions without also remembering\""
      ],
      "metadata": {
        "id": "6DDYpWtGZC2x"
      },
      "execution_count": 17,
      "outputs": []
    },
    {
      "cell_type": "code",
      "source": [
        "print(\"Original Sentence:\",quotes)\n",
        "seq = quotes[:20].lower()\n",
        "seq = \" \".join(tokenizer.tokenize(seq))\n",
        "print(\"Input sequence:\",seq)\n",
        "x = preprocess_input(seq)\n",
        "print(\"Predicted Words:\", predict_completions(x))"
      ],
      "metadata": {
        "colab": {
          "base_uri": "https://localhost:8080/"
        },
        "id": "1RgdPR_GakEZ",
        "outputId": "a74e8b9b-b769-4ee4-c6e0-e900412d4f64"
      },
      "execution_count": 22,
      "outputs": [
        {
          "output_type": "stream",
          "name": "stdout",
          "text": [
            "Original Sentence: It is hard enough to remember my opinions without also remembering\n",
            "Input sequence: it is hard enough to\n",
            "it\n",
            "is\n",
            "hard\n",
            "enough\n",
            "to\n",
            "Predicted Words: ['be', 'see', 'have']\n"
          ]
        }
      ]
    }
  ]
}